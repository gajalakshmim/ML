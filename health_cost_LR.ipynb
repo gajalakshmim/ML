{
 "cells": [
  {
   "cell_type": "code",
   "execution_count": 1,
   "id": "premier-reason",
   "metadata": {},
   "outputs": [
    {
     "name": "stderr",
     "output_type": "stream",
     "text": [
      "WARNING: You are using pip version 20.2.3; however, version 21.0.1 is available.\n",
      "You should consider upgrading via the 'c:\\users\\mail2\\envs\\mlearn\\scripts\\python.exe -m pip install --upgrade pip' command.\n"
     ]
    }
   ],
   "source": [
    "# Import libraries. You may or may not use all of these.\n",
    "!pip install -q git+https://github.com/tensorflow/docs\n",
    "import matplotlib.pyplot as plt\n",
    "import numpy as np\n",
    "import pandas as pd\n",
    "\n",
    "try:\n",
    "  # %tensorflow_version only exists in Colab.\n",
    "  %tensorflow_version 2.x\n",
    "except Exception:\n",
    "  pass\n",
    "import tensorflow as tf\n",
    "\n",
    "from tensorflow import keras\n",
    "from tensorflow.keras import layers\n",
    "\n",
    "import tensorflow_docs as tfdocs\n",
    "import tensorflow_docs.plots\n",
    "import tensorflow_docs.modeling\n"
   ]
  },
  {
   "cell_type": "code",
   "execution_count": 58,
   "id": "modular-apparatus",
   "metadata": {},
   "outputs": [
    {
     "data": {
      "text/html": [
       "<div>\n",
       "<style scoped>\n",
       "    .dataframe tbody tr th:only-of-type {\n",
       "        vertical-align: middle;\n",
       "    }\n",
       "\n",
       "    .dataframe tbody tr th {\n",
       "        vertical-align: top;\n",
       "    }\n",
       "\n",
       "    .dataframe thead th {\n",
       "        text-align: right;\n",
       "    }\n",
       "</style>\n",
       "<table border=\"1\" class=\"dataframe\">\n",
       "  <thead>\n",
       "    <tr style=\"text-align: right;\">\n",
       "      <th></th>\n",
       "      <th>age</th>\n",
       "      <th>sex</th>\n",
       "      <th>bmi</th>\n",
       "      <th>children</th>\n",
       "      <th>smoker</th>\n",
       "      <th>region</th>\n",
       "      <th>expenses</th>\n",
       "    </tr>\n",
       "  </thead>\n",
       "  <tbody>\n",
       "    <tr>\n",
       "      <th>1333</th>\n",
       "      <td>50</td>\n",
       "      <td>male</td>\n",
       "      <td>31.0</td>\n",
       "      <td>3</td>\n",
       "      <td>no</td>\n",
       "      <td>northwest</td>\n",
       "      <td>10600.55</td>\n",
       "    </tr>\n",
       "    <tr>\n",
       "      <th>1334</th>\n",
       "      <td>18</td>\n",
       "      <td>female</td>\n",
       "      <td>31.9</td>\n",
       "      <td>0</td>\n",
       "      <td>no</td>\n",
       "      <td>northeast</td>\n",
       "      <td>2205.98</td>\n",
       "    </tr>\n",
       "    <tr>\n",
       "      <th>1335</th>\n",
       "      <td>18</td>\n",
       "      <td>female</td>\n",
       "      <td>36.9</td>\n",
       "      <td>0</td>\n",
       "      <td>no</td>\n",
       "      <td>southeast</td>\n",
       "      <td>1629.83</td>\n",
       "    </tr>\n",
       "    <tr>\n",
       "      <th>1336</th>\n",
       "      <td>21</td>\n",
       "      <td>female</td>\n",
       "      <td>25.8</td>\n",
       "      <td>0</td>\n",
       "      <td>no</td>\n",
       "      <td>southwest</td>\n",
       "      <td>2007.95</td>\n",
       "    </tr>\n",
       "    <tr>\n",
       "      <th>1337</th>\n",
       "      <td>61</td>\n",
       "      <td>female</td>\n",
       "      <td>29.1</td>\n",
       "      <td>0</td>\n",
       "      <td>yes</td>\n",
       "      <td>northwest</td>\n",
       "      <td>29141.36</td>\n",
       "    </tr>\n",
       "  </tbody>\n",
       "</table>\n",
       "</div>"
      ],
      "text/plain": [
       "      age     sex   bmi  children smoker     region  expenses\n",
       "1333   50    male  31.0         3     no  northwest  10600.55\n",
       "1334   18  female  31.9         0     no  northeast   2205.98\n",
       "1335   18  female  36.9         0     no  southeast   1629.83\n",
       "1336   21  female  25.8         0     no  southwest   2007.95\n",
       "1337   61  female  29.1         0    yes  northwest  29141.36"
      ]
     },
     "execution_count": 58,
     "metadata": {},
     "output_type": "execute_result"
    }
   ],
   "source": [
    "# Import data\n",
    "insurance_file= \"C:/Users/mail2/Envs/mlearn/insurance.csv\"\n",
    "dataset = pd.read_csv(insurance_file)\n",
    "dataset.tail()"
   ]
  },
  {
   "cell_type": "code",
   "execution_count": 59,
   "id": "horizontal-invite",
   "metadata": {},
   "outputs": [
    {
     "data": {
      "text/plain": [
       "age         0\n",
       "sex         0\n",
       "bmi         0\n",
       "children    0\n",
       "smoker      0\n",
       "region      0\n",
       "expenses    0\n",
       "dtype: int64"
      ]
     },
     "execution_count": 59,
     "metadata": {},
     "output_type": "execute_result"
    }
   ],
   "source": [
    "#check if the dataset contains unknown values\n",
    "dataset.isna().sum()"
   ]
  },
  {
   "cell_type": "code",
   "execution_count": 60,
   "id": "egyptian-rapid",
   "metadata": {},
   "outputs": [
    {
     "data": {
      "text/plain": [
       "children    6\n",
       "smoker      2\n",
       "sex         2\n",
       "region      4\n",
       "dtype: int64"
      ]
     },
     "execution_count": 60,
     "metadata": {},
     "output_type": "execute_result"
    }
   ],
   "source": [
    "dataset[['children', 'smoker', 'sex','region']].nunique()"
   ]
  },
  {
   "cell_type": "code",
   "execution_count": 4,
   "id": "nearby-reality",
   "metadata": {},
   "outputs": [
    {
     "data": {
      "image/png": "[encoded data removed]",
      "text/plain": [
       "<Figure size 1152x216 with 6 Axes>"
      ]
     },
     "metadata": {
      "needs_background": "light"
     },
     "output_type": "display_data"
    }
   ],
   "source": [
    "#visualize the data and find the categorical ones\n",
    "fig, axes = plt.subplots(nrows=1, ncols=6, figsize=(16,3))\n",
    "\n",
    "for xcol, ax in zip(['bmi','age','children','smoker','sex','region'], axes):\n",
    "    dataset.plot(kind='scatter', x=xcol, y='expenses', ax=ax, alpha=0.4, color='b')"
   ]
  },
  {
   "cell_type": "code",
   "execution_count": 55,
   "id": "standard-philippines",
   "metadata": {},
   "outputs": [
    {
     "data": {
      "text/plain": [
       "<AxesSubplot:>"
      ]
     },
     "execution_count": 55,
     "metadata": {},
     "output_type": "execute_result"
    },
    {
     "data": {
      "image/png": "[encoded data removed]",
      "text/plain": [
       "<Figure size 432x288 with 1 Axes>"
      ]
     },
     "metadata": {
      "needs_background": "light"
     },
     "output_type": "display_data"
    }
   ],
   "source": [
    "dataset.age.hist(bins=20)"
   ]
  },
  {
   "cell_type": "code",
   "execution_count": 6,
   "id": "intellectual-marijuana",
   "metadata": {},
   "outputs": [
    {
     "data": {
      "text/plain": [
       "<AxesSubplot:>"
      ]
     },
     "execution_count": 6,
     "metadata": {},
     "output_type": "execute_result"
    },
    {
     "data": {
      "image/png": "[encoded data removed]",
      "text/plain": [
       "<Figure size 432x288 with 1 Axes>"
      ]
     },
     "metadata": {
      "needs_background": "light"
     },
     "output_type": "display_data"
    }
   ],
   "source": [
    "dataset.bmi.hist(bins=20)"
   ]
  },
  {
   "cell_type": "code",
   "execution_count": 7,
   "id": "parliamentary-champagne",
   "metadata": {},
   "outputs": [
    {
     "data": {
      "text/plain": [
       "<AxesSubplot:>"
      ]
     },
     "execution_count": 7,
     "metadata": {},
     "output_type": "execute_result"
    },
    {
     "data": {
      "image/png": "[encoded data removed]",
      "text/plain": [
       "<Figure size 432x288 with 1 Axes>"
      ]
     },
     "metadata": {
      "needs_background": "light"
     },
     "output_type": "display_data"
    }
   ],
   "source": [
    "dataset.expenses.hist(bins=20)"
   ]
  },
  {
   "cell_type": "code",
   "execution_count": 8,
   "id": "overhead-conservation",
   "metadata": {},
   "outputs": [
    {
     "data": {
      "text/plain": [
       "<AxesSubplot:>"
      ]
     },
     "execution_count": 8,
     "metadata": {},
     "output_type": "execute_result"
    },
    {
     "data": {
      "image/png": "[encoded data removed]",
      "text/plain": [
       "<Figure size 432x288 with 1 Axes>"
      ]
     },
     "metadata": {
      "needs_background": "light"
     },
     "output_type": "display_data"
    }
   ],
   "source": [
    "dataset.smoker.hist(bins=20)"
   ]
  },
  {
   "cell_type": "code",
   "execution_count": null,
   "id": "brilliant-worse",
   "metadata": {},
   "outputs": [],
   "source": [
    "#dataset['sex'] = pd.Categorical(dataset['sex'])\n",
    "#dataset['sex'] = dataset.sex.cat.codes"
   ]
  },
  {
   "cell_type": "code",
   "execution_count": null,
   "id": "looking-music",
   "metadata": {},
   "outputs": [],
   "source": [
    "#dataset['smoker'] = pd.Categorical(dataset['smoker'])\n",
    "#dataset['smoker'] = dataset.smoker.cat.codes\n",
    "#dataset['region'] = pd.Categorical(dataset['region'])\n",
    "#dataset['region'] = dataset.region.cat.codes"
   ]
  },
  {
   "cell_type": "code",
   "execution_count": 61,
   "id": "burning-offer",
   "metadata": {},
   "outputs": [
    {
     "data": {
      "text/html": [
       "<div>\n",
       "<style scoped>\n",
       "    .dataframe tbody tr th:only-of-type {\n",
       "        vertical-align: middle;\n",
       "    }\n",
       "\n",
       "    .dataframe tbody tr th {\n",
       "        vertical-align: top;\n",
       "    }\n",
       "\n",
       "    .dataframe thead th {\n",
       "        text-align: right;\n",
       "    }\n",
       "</style>\n",
       "<table border=\"1\" class=\"dataframe\">\n",
       "  <thead>\n",
       "    <tr style=\"text-align: right;\">\n",
       "      <th></th>\n",
       "      <th>age</th>\n",
       "      <th>bmi</th>\n",
       "      <th>children</th>\n",
       "      <th>expenses</th>\n",
       "      <th>child_0</th>\n",
       "      <th>child_1</th>\n",
       "      <th>child_2</th>\n",
       "      <th>child_3</th>\n",
       "      <th>child_4</th>\n",
       "      <th>child_5</th>\n",
       "      <th>reg_northwest</th>\n",
       "      <th>reg_southeast</th>\n",
       "      <th>reg_southwest</th>\n",
       "      <th>gender_female</th>\n",
       "      <th>gender_male</th>\n",
       "      <th>smoker_no</th>\n",
       "      <th>smoker_yes</th>\n",
       "    </tr>\n",
       "  </thead>\n",
       "  <tbody>\n",
       "    <tr>\n",
       "      <th>0</th>\n",
       "      <td>19</td>\n",
       "      <td>27.9</td>\n",
       "      <td>0</td>\n",
       "      <td>16884.92</td>\n",
       "      <td>1</td>\n",
       "      <td>0</td>\n",
       "      <td>0</td>\n",
       "      <td>0</td>\n",
       "      <td>0</td>\n",
       "      <td>0</td>\n",
       "      <td>0</td>\n",
       "      <td>0</td>\n",
       "      <td>1</td>\n",
       "      <td>1</td>\n",
       "      <td>0</td>\n",
       "      <td>0</td>\n",
       "      <td>1</td>\n",
       "    </tr>\n",
       "    <tr>\n",
       "      <th>1</th>\n",
       "      <td>18</td>\n",
       "      <td>33.8</td>\n",
       "      <td>1</td>\n",
       "      <td>1725.55</td>\n",
       "      <td>0</td>\n",
       "      <td>1</td>\n",
       "      <td>0</td>\n",
       "      <td>0</td>\n",
       "      <td>0</td>\n",
       "      <td>0</td>\n",
       "      <td>0</td>\n",
       "      <td>1</td>\n",
       "      <td>0</td>\n",
       "      <td>0</td>\n",
       "      <td>1</td>\n",
       "      <td>1</td>\n",
       "      <td>0</td>\n",
       "    </tr>\n",
       "    <tr>\n",
       "      <th>2</th>\n",
       "      <td>28</td>\n",
       "      <td>33.0</td>\n",
       "      <td>3</td>\n",
       "      <td>4449.46</td>\n",
       "      <td>0</td>\n",
       "      <td>0</td>\n",
       "      <td>0</td>\n",
       "      <td>1</td>\n",
       "      <td>0</td>\n",
       "      <td>0</td>\n",
       "      <td>0</td>\n",
       "      <td>1</td>\n",
       "      <td>0</td>\n",
       "      <td>0</td>\n",
       "      <td>1</td>\n",
       "      <td>1</td>\n",
       "      <td>0</td>\n",
       "    </tr>\n",
       "    <tr>\n",
       "      <th>3</th>\n",
       "      <td>33</td>\n",
       "      <td>22.7</td>\n",
       "      <td>0</td>\n",
       "      <td>21984.47</td>\n",
       "      <td>1</td>\n",
       "      <td>0</td>\n",
       "      <td>0</td>\n",
       "      <td>0</td>\n",
       "      <td>0</td>\n",
       "      <td>0</td>\n",
       "      <td>1</td>\n",
       "      <td>0</td>\n",
       "      <td>0</td>\n",
       "      <td>0</td>\n",
       "      <td>1</td>\n",
       "      <td>1</td>\n",
       "      <td>0</td>\n",
       "    </tr>\n",
       "    <tr>\n",
       "      <th>4</th>\n",
       "      <td>32</td>\n",
       "      <td>28.9</td>\n",
       "      <td>0</td>\n",
       "      <td>3866.86</td>\n",
       "      <td>1</td>\n",
       "      <td>0</td>\n",
       "      <td>0</td>\n",
       "      <td>0</td>\n",
       "      <td>0</td>\n",
       "      <td>0</td>\n",
       "      <td>1</td>\n",
       "      <td>0</td>\n",
       "      <td>0</td>\n",
       "      <td>0</td>\n",
       "      <td>1</td>\n",
       "      <td>1</td>\n",
       "      <td>0</td>\n",
       "    </tr>\n",
       "  </tbody>\n",
       "</table>\n",
       "</div>"
      ],
      "text/plain": [
       "   age   bmi  children  expenses  child_0  child_1  child_2  child_3  child_4  \\\n",
       "0   19  27.9         0  16884.92        1        0        0        0        0   \n",
       "1   18  33.8         1   1725.55        0        1        0        0        0   \n",
       "2   28  33.0         3   4449.46        0        0        0        1        0   \n",
       "3   33  22.7         0  21984.47        1        0        0        0        0   \n",
       "4   32  28.9         0   3866.86        1        0        0        0        0   \n",
       "\n",
       "   child_5  reg_northwest  reg_southeast  reg_southwest  gender_female  \\\n",
       "0        0              0              0              1              1   \n",
       "1        0              0              1              0              0   \n",
       "2        0              0              1              0              0   \n",
       "3        0              1              0              0              0   \n",
       "4        0              1              0              0              0   \n",
       "\n",
       "   gender_male  smoker_no  smoker_yes  \n",
       "0            0          0           1  \n",
       "1            1          1           0  \n",
       "2            1          1           0  \n",
       "3            1          1           0  \n",
       "4            1          1           0  "
      ]
     },
     "execution_count": 61,
     "metadata": {},
     "output_type": "execute_result"
    }
   ],
   "source": [
    "#creating dummies using one-hot encoding\n",
    "child_dummies = pd.get_dummies(dataset['children'], prefix='child')\n",
    "reg_dummies = pd.get_dummies(dataset['region'], prefix='reg',drop_first='True')\n",
    "gender_dummies = pd.get_dummies(dataset['sex'], prefix='gender')\n",
    "smoker_dummies = pd.get_dummies(dataset['smoker'], prefix='smoker')\n",
    "dataset = dataset.drop(['region','sex','smoker'], axis=1)\n",
    "dataset = pd.concat([dataset, child_dummies, reg_dummies, gender_dummies,smoker_dummies], axis=1)\n",
    "dataset.head()"
   ]
  },
  {
   "cell_type": "markdown",
   "id": "shaped-huntington",
   "metadata": {},
   "source": [
    "#From the plots it seems, people with no children, the gender and smoker are special features that more significance in determining the expenses. So here I'm trying keep them separate adding additional features to our dataset."
   ]
  },
  {
   "cell_type": "code",
   "execution_count": 62,
   "id": "mysterious-variable",
   "metadata": {},
   "outputs": [],
   "source": [
    "dataset = dataset.drop(['child_1','child_2','child_3','child_4','child_5'], axis=1)"
   ]
  },
  {
   "cell_type": "code",
   "execution_count": 63,
   "id": "concrete-cameroon",
   "metadata": {},
   "outputs": [
    {
     "data": {
      "text/html": [
       "<div>\n",
       "<style scoped>\n",
       "    .dataframe tbody tr th:only-of-type {\n",
       "        vertical-align: middle;\n",
       "    }\n",
       "\n",
       "    .dataframe tbody tr th {\n",
       "        vertical-align: top;\n",
       "    }\n",
       "\n",
       "    .dataframe thead th {\n",
       "        text-align: right;\n",
       "    }\n",
       "</style>\n",
       "<table border=\"1\" class=\"dataframe\">\n",
       "  <thead>\n",
       "    <tr style=\"text-align: right;\">\n",
       "      <th></th>\n",
       "      <th>age</th>\n",
       "      <th>bmi</th>\n",
       "      <th>children</th>\n",
       "      <th>expenses</th>\n",
       "      <th>child_0</th>\n",
       "      <th>reg_northwest</th>\n",
       "      <th>reg_southeast</th>\n",
       "      <th>reg_southwest</th>\n",
       "      <th>gender_female</th>\n",
       "      <th>gender_male</th>\n",
       "      <th>smoker_no</th>\n",
       "      <th>smoker_yes</th>\n",
       "    </tr>\n",
       "  </thead>\n",
       "  <tbody>\n",
       "    <tr>\n",
       "      <th>0</th>\n",
       "      <td>19</td>\n",
       "      <td>27.9</td>\n",
       "      <td>0</td>\n",
       "      <td>16884.92</td>\n",
       "      <td>1</td>\n",
       "      <td>0</td>\n",
       "      <td>0</td>\n",
       "      <td>1</td>\n",
       "      <td>1</td>\n",
       "      <td>0</td>\n",
       "      <td>0</td>\n",
       "      <td>1</td>\n",
       "    </tr>\n",
       "    <tr>\n",
       "      <th>1</th>\n",
       "      <td>18</td>\n",
       "      <td>33.8</td>\n",
       "      <td>1</td>\n",
       "      <td>1725.55</td>\n",
       "      <td>0</td>\n",
       "      <td>0</td>\n",
       "      <td>1</td>\n",
       "      <td>0</td>\n",
       "      <td>0</td>\n",
       "      <td>1</td>\n",
       "      <td>1</td>\n",
       "      <td>0</td>\n",
       "    </tr>\n",
       "    <tr>\n",
       "      <th>2</th>\n",
       "      <td>28</td>\n",
       "      <td>33.0</td>\n",
       "      <td>3</td>\n",
       "      <td>4449.46</td>\n",
       "      <td>0</td>\n",
       "      <td>0</td>\n",
       "      <td>1</td>\n",
       "      <td>0</td>\n",
       "      <td>0</td>\n",
       "      <td>1</td>\n",
       "      <td>1</td>\n",
       "      <td>0</td>\n",
       "    </tr>\n",
       "    <tr>\n",
       "      <th>3</th>\n",
       "      <td>33</td>\n",
       "      <td>22.7</td>\n",
       "      <td>0</td>\n",
       "      <td>21984.47</td>\n",
       "      <td>1</td>\n",
       "      <td>1</td>\n",
       "      <td>0</td>\n",
       "      <td>0</td>\n",
       "      <td>0</td>\n",
       "      <td>1</td>\n",
       "      <td>1</td>\n",
       "      <td>0</td>\n",
       "    </tr>\n",
       "    <tr>\n",
       "      <th>4</th>\n",
       "      <td>32</td>\n",
       "      <td>28.9</td>\n",
       "      <td>0</td>\n",
       "      <td>3866.86</td>\n",
       "      <td>1</td>\n",
       "      <td>1</td>\n",
       "      <td>0</td>\n",
       "      <td>0</td>\n",
       "      <td>0</td>\n",
       "      <td>1</td>\n",
       "      <td>1</td>\n",
       "      <td>0</td>\n",
       "    </tr>\n",
       "  </tbody>\n",
       "</table>\n",
       "</div>"
      ],
      "text/plain": [
       "   age   bmi  children  expenses  child_0  reg_northwest  reg_southeast  \\\n",
       "0   19  27.9         0  16884.92        1              0              0   \n",
       "1   18  33.8         1   1725.55        0              0              1   \n",
       "2   28  33.0         3   4449.46        0              0              1   \n",
       "3   33  22.7         0  21984.47        1              1              0   \n",
       "4   32  28.9         0   3866.86        1              1              0   \n",
       "\n",
       "   reg_southwest  gender_female  gender_male  smoker_no  smoker_yes  \n",
       "0              1              1            0          0           1  \n",
       "1              0              0            1          1           0  \n",
       "2              0              0            1          1           0  \n",
       "3              0              0            1          1           0  \n",
       "4              0              0            1          1           0  "
      ]
     },
     "execution_count": 63,
     "metadata": {},
     "output_type": "execute_result"
    }
   ],
   "source": [
    "dataset.head()"
   ]
  },
  {
   "cell_type": "code",
   "execution_count": 64,
   "id": "threaded-standard",
   "metadata": {},
   "outputs": [],
   "source": [
    "#data split 80% training and rest test dataset\n",
    "train_dataset = dataset.sample(frac=0.8, random_state=1)\n",
    "test_dataset = dataset.drop(train_dataset.index)"
   ]
  },
  {
   "cell_type": "code",
   "execution_count": 65,
   "id": "coral-functionality",
   "metadata": {},
   "outputs": [],
   "source": [
    "#separate features and labels\n",
    "train_features = train_dataset.copy()\n",
    "test_features = test_dataset.copy()\n",
    "\n",
    "\n",
    "train_labels = train_features.pop('expenses')\n",
    "test_labels = test_features.pop('expenses')"
   ]
  },
  {
   "cell_type": "code",
   "execution_count": 56,
   "id": "executive-description",
   "metadata": {},
   "outputs": [
    {
     "data": {
      "text/html": [
       "<div>\n",
       "<style scoped>\n",
       "    .dataframe tbody tr th:only-of-type {\n",
       "        vertical-align: middle;\n",
       "    }\n",
       "\n",
       "    .dataframe tbody tr th {\n",
       "        vertical-align: top;\n",
       "    }\n",
       "\n",
       "    .dataframe thead th {\n",
       "        text-align: right;\n",
       "    }\n",
       "</style>\n",
       "<table border=\"1\" class=\"dataframe\">\n",
       "  <thead>\n",
       "    <tr style=\"text-align: right;\">\n",
       "      <th></th>\n",
       "      <th>mean</th>\n",
       "      <th>std</th>\n",
       "    </tr>\n",
       "  </thead>\n",
       "  <tbody>\n",
       "    <tr>\n",
       "      <th>age</th>\n",
       "      <td>39.483178</td>\n",
       "      <td>14.143763</td>\n",
       "    </tr>\n",
       "    <tr>\n",
       "      <th>bmi</th>\n",
       "      <td>30.562897</td>\n",
       "      <td>6.076637</td>\n",
       "    </tr>\n",
       "    <tr>\n",
       "      <th>children</th>\n",
       "      <td>1.078505</td>\n",
       "      <td>1.205462</td>\n",
       "    </tr>\n",
       "    <tr>\n",
       "      <th>child_0</th>\n",
       "      <td>0.439252</td>\n",
       "      <td>0.496528</td>\n",
       "    </tr>\n",
       "    <tr>\n",
       "      <th>reg_northwest</th>\n",
       "      <td>0.234579</td>\n",
       "      <td>0.423934</td>\n",
       "    </tr>\n",
       "    <tr>\n",
       "      <th>reg_southeast</th>\n",
       "      <td>0.278505</td>\n",
       "      <td>0.448473</td>\n",
       "    </tr>\n",
       "    <tr>\n",
       "      <th>reg_southwest</th>\n",
       "      <td>0.244860</td>\n",
       "      <td>0.430205</td>\n",
       "    </tr>\n",
       "    <tr>\n",
       "      <th>gender_female</th>\n",
       "      <td>0.510280</td>\n",
       "      <td>0.500128</td>\n",
       "    </tr>\n",
       "    <tr>\n",
       "      <th>gender_male</th>\n",
       "      <td>0.489720</td>\n",
       "      <td>0.500128</td>\n",
       "    </tr>\n",
       "    <tr>\n",
       "      <th>smoker_no</th>\n",
       "      <td>0.795327</td>\n",
       "      <td>0.403651</td>\n",
       "    </tr>\n",
       "    <tr>\n",
       "      <th>smoker_yes</th>\n",
       "      <td>0.204673</td>\n",
       "      <td>0.403651</td>\n",
       "    </tr>\n",
       "  </tbody>\n",
       "</table>\n",
       "</div>"
      ],
      "text/plain": [
       "                    mean        std\n",
       "age            39.483178  14.143763\n",
       "bmi            30.562897   6.076637\n",
       "children        1.078505   1.205462\n",
       "child_0         0.439252   0.496528\n",
       "reg_northwest   0.234579   0.423934\n",
       "reg_southeast   0.278505   0.448473\n",
       "reg_southwest   0.244860   0.430205\n",
       "gender_female   0.510280   0.500128\n",
       "gender_male     0.489720   0.500128\n",
       "smoker_no       0.795327   0.403651\n",
       "smoker_yes      0.204673   0.403651"
      ]
     },
     "execution_count": 56,
     "metadata": {},
     "output_type": "execute_result"
    }
   ],
   "source": [
    "train_features.describe().transpose()[['mean', 'std']]"
   ]
  },
  {
   "cell_type": "code",
   "execution_count": 57,
   "id": "tracked-lodge",
   "metadata": {},
   "outputs": [
    {
     "data": {
      "text/html": [
       "<div>\n",
       "<style scoped>\n",
       "    .dataframe tbody tr th:only-of-type {\n",
       "        vertical-align: middle;\n",
       "    }\n",
       "\n",
       "    .dataframe tbody tr th {\n",
       "        vertical-align: top;\n",
       "    }\n",
       "\n",
       "    .dataframe thead th {\n",
       "        text-align: right;\n",
       "    }\n",
       "</style>\n",
       "<table border=\"1\" class=\"dataframe\">\n",
       "  <thead>\n",
       "    <tr style=\"text-align: right;\">\n",
       "      <th></th>\n",
       "      <th>mean</th>\n",
       "      <th>std</th>\n",
       "    </tr>\n",
       "  </thead>\n",
       "  <tbody>\n",
       "    <tr>\n",
       "      <th>age</th>\n",
       "      <td>38.104478</td>\n",
       "      <td>13.639153</td>\n",
       "    </tr>\n",
       "    <tr>\n",
       "      <th>bmi</th>\n",
       "      <td>31.075000</td>\n",
       "      <td>6.178919</td>\n",
       "    </tr>\n",
       "    <tr>\n",
       "      <th>children</th>\n",
       "      <td>1.160448</td>\n",
       "      <td>1.205637</td>\n",
       "    </tr>\n",
       "    <tr>\n",
       "      <th>child_0</th>\n",
       "      <td>0.388060</td>\n",
       "      <td>0.488220</td>\n",
       "    </tr>\n",
       "    <tr>\n",
       "      <th>reg_northwest</th>\n",
       "      <td>0.276119</td>\n",
       "      <td>0.447913</td>\n",
       "    </tr>\n",
       "    <tr>\n",
       "      <th>reg_southeast</th>\n",
       "      <td>0.246269</td>\n",
       "      <td>0.431643</td>\n",
       "    </tr>\n",
       "    <tr>\n",
       "      <th>reg_southwest</th>\n",
       "      <td>0.235075</td>\n",
       "      <td>0.424839</td>\n",
       "    </tr>\n",
       "    <tr>\n",
       "      <th>gender_female</th>\n",
       "      <td>0.432836</td>\n",
       "      <td>0.496395</td>\n",
       "    </tr>\n",
       "    <tr>\n",
       "      <th>gender_male</th>\n",
       "      <td>0.567164</td>\n",
       "      <td>0.496395</td>\n",
       "    </tr>\n",
       "    <tr>\n",
       "      <th>smoker_no</th>\n",
       "      <td>0.794776</td>\n",
       "      <td>0.404621</td>\n",
       "    </tr>\n",
       "    <tr>\n",
       "      <th>smoker_yes</th>\n",
       "      <td>0.205224</td>\n",
       "      <td>0.404621</td>\n",
       "    </tr>\n",
       "  </tbody>\n",
       "</table>\n",
       "</div>"
      ],
      "text/plain": [
       "                    mean        std\n",
       "age            38.104478  13.639153\n",
       "bmi            31.075000   6.178919\n",
       "children        1.160448   1.205637\n",
       "child_0         0.388060   0.488220\n",
       "reg_northwest   0.276119   0.447913\n",
       "reg_southeast   0.246269   0.431643\n",
       "reg_southwest   0.235075   0.424839\n",
       "gender_female   0.432836   0.496395\n",
       "gender_male     0.567164   0.496395\n",
       "smoker_no       0.794776   0.404621\n",
       "smoker_yes      0.205224   0.404621"
      ]
     },
     "execution_count": 57,
     "metadata": {},
     "output_type": "execute_result"
    }
   ],
   "source": [
    "test_features.describe().transpose()[['mean', 'std']]"
   ]
  },
  {
   "cell_type": "code",
   "execution_count": 66,
   "id": "connected-bolivia",
   "metadata": {},
   "outputs": [],
   "source": [
    "#Normalization of the training dataset\n",
    "normalizer = layers.experimental.preprocessing.Normalization()\n",
    "normalizer.adapt(np.array(train_features))"
   ]
  },
  {
   "cell_type": "code",
   "execution_count": 67,
   "id": "indian-lighting",
   "metadata": {},
   "outputs": [
    {
     "name": "stdout",
     "output_type": "stream",
     "text": [
      "First example: [[19.  35.5  0.   1.   1.   0.   0.   0.   1.   1.   0. ]]\n",
      "\n",
      "Normalized: [[-1.45  0.81 -0.9   1.13  1.81 -0.62 -0.57 -1.02  1.02  0.51 -0.51]]\n"
     ]
    }
   ],
   "source": [
    "first = np.array(train_features[:1])\n",
    "\n",
    "with np.printoptions(precision=2, suppress=True):\n",
    "  print('First example:', first)\n",
    "  print()\n",
    "  print('Normalized:', normalizer(first).numpy())"
   ]
  },
  {
   "cell_type": "code",
   "execution_count": 32,
   "id": "turned-microwave",
   "metadata": {},
   "outputs": [
    {
     "data": {
      "text/plain": [
       "LinearRegression()"
      ]
     },
     "execution_count": 32,
     "metadata": {},
     "output_type": "execute_result"
    }
   ],
   "source": [
    "#from sklearn.linear_model import LinearRegression\n",
    "regressor = LinearRegression()\n",
    "regressor.fit(train_features,train_labels)"
   ]
  },
  {
   "cell_type": "code",
   "execution_count": 36,
   "id": "complimentary-reaction",
   "metadata": {},
   "outputs": [
    {
     "name": "stdout",
     "output_type": "stream",
     "text": [
      "Variance-score (R^2): 0.7186\n",
      "Mean squared error: 44136157.6772\n",
      "Root mean squared error: 6643.5049\n",
      "log root mean squared error: 0.2627\n",
      "mean absolute error: 4556.9209\n",
      "Accuracy: 0.00%\n"
     ]
    },
    {
     "name": "stderr",
     "output_type": "stream",
     "text": [
      "<ipython-input-36-3fd7b171b9f3>:8: RuntimeWarning: invalid value encountered in log10\n",
      "  print('log root mean squared error: {0:.4f}'.format(np.sqrt(np.square(np.log10(y_prediction + 1) - np.log10(test_labels + 1)).mean())))\n"
     ]
    }
   ],
   "source": [
    "#from sklearn.metrics import mean_absolute_error, mean_squared_error, accuracy_score\n",
    "\n",
    "y_prediction = regressor.predict(test_features)\n",
    "accuracy = accuracy_score(y_true = test_labels.astype(int), y_pred = y_prediction.astype(int))\n",
    "print('Variance-score (R^2): {0:.4f}'.format(regressor.score(test_features, test_labels)))\n",
    "print('Mean squared error: {0:.4f}'.format(np.mean((regressor.predict(test_features) - test_labels) ** 2)))\n",
    "print('Root mean squared error: {0:.4f}'.format(np.sqrt(mean_squared_error(y_true = test_labels, y_pred = y_prediction))))\n",
    "print('log root mean squared error: {0:.4f}'.format(np.sqrt(np.square(np.log10(y_prediction + 1) - np.log10(test_labels + 1)).mean())))\n",
    "print('mean absolute error: {0:.4f}'.format(mean_absolute_error(test_labels, y_prediction)))\n",
    "print('Accuracy: {0:.2f}%'.format(accuracy*100))"
   ]
  },
  {
   "cell_type": "code",
   "execution_count": 68,
   "id": "proprietary-allah",
   "metadata": {},
   "outputs": [],
   "source": [
    "model = tf.keras.Sequential([\n",
    "    normalizer,\n",
    "    layers.Dense(units=125),\n",
    "    layers.Dense(units=1)\n",
    "\n",
    "])"
   ]
  },
  {
   "cell_type": "code",
   "execution_count": 69,
   "id": "authentic-composer",
   "metadata": {},
   "outputs": [],
   "source": [
    "model.compile(\n",
    "    optimizer=tf.optimizers.Adam(learning_rate=0.1),\n",
    "    loss='mean_absolute_error', metrics=[\"mae\",'mse'])"
   ]
  },
  {
   "cell_type": "code",
   "execution_count": 34,
   "id": "seventh-blackjack",
   "metadata": {},
   "outputs": [],
   "source": [
    "#train_labels=np.log10(train_labels)"
   ]
  },
  {
   "cell_type": "code",
   "execution_count": 70,
   "id": "focused-bloom",
   "metadata": {},
   "outputs": [
    {
     "name": "stdout",
     "output_type": "stream",
     "text": [
      "Epoch 1/10\n",
      "27/27 [==============================] - 1s 14ms/step - loss: 13198.2358 - mae: 13198.2358 - mse: 319722813.7143 - val_loss: 12815.1729 - val_mae: 12815.1729 - val_mse: 303556768.0000\n",
      "Epoch 2/10\n",
      "27/27 [==============================] - 0s 5ms/step - loss: 11529.6053 - mae: 11529.6053 - mse: 276414777.1429 - val_loss: 8689.3828 - val_mae: 8689.3828 - val_mse: 192611760.0000\n",
      "Epoch 3/10\n",
      "27/27 [==============================] - 0s 5ms/step - loss: 6738.2663 - mae: 6738.2663 - mse: 142421402.5714 - val_loss: 3617.9685 - val_mae: 3617.9685 - val_mse: 41804756.0000\n",
      "Epoch 4/10\n",
      "27/27 [==============================] - 0s 5ms/step - loss: 3397.4852 - mae: 3397.4852 - mse: 39954941.2143 - val_loss: 3353.1726 - val_mae: 3353.1726 - val_mse: 34672732.0000\n",
      "Epoch 5/10\n",
      "27/27 [==============================] - 0s 5ms/step - loss: 3649.8792 - mae: 3649.8792 - mse: 44968883.2857 - val_loss: 3334.1572 - val_mae: 3334.1572 - val_mse: 35922972.0000\n",
      "Epoch 6/10\n",
      "27/27 [==============================] - 0s 5ms/step - loss: 3601.7317 - mae: 3601.7317 - mse: 45471276.4286 - val_loss: 3351.1116 - val_mae: 3351.1116 - val_mse: 38229144.0000\n",
      "Epoch 7/10\n",
      "27/27 [==============================] - 0s 4ms/step - loss: 3557.5272 - mae: 3557.5272 - mse: 45108677.0000 - val_loss: 3260.6741 - val_mae: 3260.6741 - val_mse: 38552744.0000\n",
      "Epoch 8/10\n",
      "27/27 [==============================] - 0s 4ms/step - loss: 3487.6611 - mae: 3487.6611 - mse: 48339560.8571 - val_loss: 3199.6343 - val_mae: 3199.6343 - val_mse: 36616320.0000\n",
      "Epoch 9/10\n",
      "27/27 [==============================] - 0s 4ms/step - loss: 3411.0601 - mae: 3411.0601 - mse: 42656444.1429 - val_loss: 3240.2510 - val_mae: 3240.2510 - val_mse: 36804952.0000\n",
      "Epoch 10/10\n",
      "27/27 [==============================] - 0s 5ms/step - loss: 3556.1784 - mae: 3556.1784 - mse: 45164816.7143 - val_loss: 3245.3018 - val_mae: 3245.3018 - val_mse: 35708468.0000\n",
      "Wall time: 2.13 s\n"
     ]
    }
   ],
   "source": [
    "\n",
    "%%time\n",
    "\n",
    "history = model.fit(\n",
    "    train_features, train_labels, \n",
    "    epochs=10,\n",
    "    # suppress logging\n",
    "    verbose=1,\n",
    "    # Calculate validation results on 20% of the training data\n",
    "    validation_split = 0.2)"
   ]
  },
  {
   "cell_type": "code",
   "execution_count": 48,
   "id": "adjacent-trader",
   "metadata": {},
   "outputs": [
    {
     "ename": "AttributeError",
     "evalue": "'Normalization' object has no attribute 'kernel'",
     "output_type": "error",
     "traceback": [
      "\u001b[1;31m---------------------------------------------------------------------------\u001b[0m",
      "\u001b[1;31mAttributeError\u001b[0m                            Traceback (most recent call last)",
      "\u001b[1;32m<ipython-input-48-95a6889ae5f6>\u001b[0m in \u001b[0;36m<module>\u001b[1;34m\u001b[0m\n\u001b[1;32m----> 1\u001b[1;33m \u001b[0mmodel\u001b[0m\u001b[1;33m.\u001b[0m\u001b[0mlayers\u001b[0m\u001b[1;33m[\u001b[0m\u001b[1;36m0\u001b[0m\u001b[1;33m]\u001b[0m\u001b[1;33m.\u001b[0m\u001b[0mkernel\u001b[0m\u001b[1;33m\u001b[0m\u001b[1;33m\u001b[0m\u001b[0m\n\u001b[0m",
      "\u001b[1;31mAttributeError\u001b[0m: 'Normalization' object has no attribute 'kernel'"
     ]
    }
   ],
   "source": [
    "model.layers[0].kernel"
   ]
  },
  {
   "cell_type": "code",
   "execution_count": 65,
   "id": "common-century",
   "metadata": {},
   "outputs": [
    {
     "data": {
      "text/plain": [
       "[67.00666809082031,\n",
       " 66.78970336914062,\n",
       " 66.51739501953125,\n",
       " 66.24029541015625,\n",
       " 65.96480560302734,\n",
       " 65.6885986328125,\n",
       " 65.41033935546875,\n",
       " 65.13530731201172,\n",
       " 64.86038970947266,\n",
       " 64.5832290649414,\n",
       " 64.30647277832031,\n",
       " 64.03167724609375,\n",
       " 63.75579833984375,\n",
       " 63.47919845581055,\n",
       " 63.20166778564453,\n",
       " 62.92373275756836,\n",
       " 62.6490364074707,\n",
       " 62.37267303466797,\n",
       " 62.0960807800293,\n",
       " 61.82147216796875,\n",
       " 61.5443229675293,\n",
       " 61.268280029296875,\n",
       " 60.99310302734375,\n",
       " 60.71635055541992,\n",
       " 60.44337463378906,\n",
       " 60.167728424072266,\n",
       " 59.88897705078125,\n",
       " 59.614166259765625,\n",
       " 59.337467193603516,\n",
       " 59.06450271606445,\n",
       " 58.78691864013672,\n",
       " 58.50883483886719,\n",
       " 58.23389434814453,\n",
       " 57.95856475830078,\n",
       " 57.68147659301758,\n",
       " 57.406620025634766,\n",
       " 57.13066482543945,\n",
       " 56.85383987426758,\n",
       " 56.580326080322266,\n",
       " 56.30245590209961,\n",
       " 56.02691650390625,\n",
       " 55.750465393066406,\n",
       " 55.47492980957031,\n",
       " 55.19776916503906,\n",
       " 54.927330017089844,\n",
       " 54.64664840698242,\n",
       " 54.37233352661133,\n",
       " 54.09647750854492,\n",
       " 53.818546295166016,\n",
       " 53.54367446899414,\n",
       " 53.26881790161133,\n",
       " 52.99351501464844,\n",
       " 52.717979431152344,\n",
       " 52.44253921508789,\n",
       " 52.16819763183594,\n",
       " 51.89350509643555,\n",
       " 51.61793518066406,\n",
       " 51.342376708984375,\n",
       " 51.06733322143555,\n",
       " 50.790733337402344,\n",
       " 50.513397216796875,\n",
       " 50.24009704589844,\n",
       " 49.961944580078125,\n",
       " 49.69146728515625,\n",
       " 49.41323471069336,\n",
       " 49.138084411621094,\n",
       " 48.861045837402344,\n",
       " 48.58641815185547,\n",
       " 48.3140869140625,\n",
       " 48.03471374511719,\n",
       " 47.760250091552734,\n",
       " 47.48323059082031,\n",
       " 47.20830154418945,\n",
       " 46.9348030090332,\n",
       " 46.656227111816406,\n",
       " 46.382816314697266,\n",
       " 46.107051849365234,\n",
       " 45.83330154418945,\n",
       " 45.55570602416992,\n",
       " 45.280364990234375,\n",
       " 45.002540588378906,\n",
       " 44.72895812988281,\n",
       " 44.453914642333984,\n",
       " 44.17546081542969,\n",
       " 43.904876708984375,\n",
       " 43.62655258178711,\n",
       " 43.354801177978516,\n",
       " 43.0772705078125,\n",
       " 42.80256652832031,\n",
       " 42.52440643310547,\n",
       " 42.251277923583984,\n",
       " 41.974369049072266,\n",
       " 41.69915771484375,\n",
       " 41.42457580566406,\n",
       " 41.14958572387695,\n",
       " 40.875343322753906,\n",
       " 40.5953483581543,\n",
       " 40.324214935302734,\n",
       " 40.047550201416016,\n",
       " 39.774131774902344]"
      ]
     },
     "execution_count": 65,
     "metadata": {},
     "output_type": "execute_result"
    }
   ],
   "source": [
    "history.history['loss']"
   ]
  },
  {
   "cell_type": "code",
   "execution_count": null,
   "id": "correct-minneapolis",
   "metadata": {},
   "outputs": [],
   "source": [
    "history.history"
   ]
  },
  {
   "cell_type": "code",
   "execution_count": 71,
   "id": "stretch-nicholas",
   "metadata": {},
   "outputs": [
    {
     "data": {
      "image/png": "[encoded data removed]",
      "text/plain": [
       "<Figure size 432x288 with 1 Axes>"
      ]
     },
     "metadata": {
      "needs_background": "light"
     },
     "output_type": "display_data"
    }
   ],
   "source": [
    "def plot_loss(history):\n",
    "  plt.plot(history.history['loss'], label='loss')\n",
    "  plt.plot(history.history['val_loss'], label='val_loss')\n",
    "  plt.ylim([0, 5500])\n",
    "  plt.xlabel('Epoch')\n",
    "  plt.ylabel('Error [MPG]')\n",
    "  plt.legend()\n",
    "  plt.grid(True)\n",
    "plot_loss(history)"
   ]
  },
  {
   "cell_type": "code",
   "execution_count": 72,
   "id": "proper-hazard",
   "metadata": {},
   "outputs": [],
   "source": [
    "\n",
    "loss,mae,mse=model.evaluate(\n",
    "    test_features,test_labels, verbose=0)\n",
    "test_dataset=test_features\n",
    "#test_labels=np.reciprocal(test_labels)"
   ]
  },
  {
   "cell_type": "code",
   "execution_count": 73,
   "id": "interesting-bacon",
   "metadata": {},
   "outputs": [
    {
     "name": "stdout",
     "output_type": "stream",
     "text": [
      "9/9 - 0s - loss: 3401.7817 - mae: 3401.7817 - mse: 41982172.0000\n",
      "Testing set Mean Abs Error: 3401.78 expenses\n",
      "You passed the challenge. Great job!\n"
     ]
    },
    {
     "data": {
      "image/png": "[encoded data removed]",
      "text/plain": [
       "<Figure size 432x288 with 1 Axes>"
      ]
     },
     "metadata": {
      "needs_background": "light"
     },
     "output_type": "display_data"
    }
   ],
   "source": [
    "# RUN THIS CELL TO TEST YOUR MODEL. DO NOT MODIFY CONTENTS.\n",
    "# Test model by checking how well the model generalizes using the test set.\n",
    "loss, mae, mse = model.evaluate(test_dataset, test_labels, verbose=2)\n",
    "\n",
    "print(\"Testing set Mean Abs Error: {:5.2f} expenses\".format(mae))\n",
    "\n",
    "if mae < 3500:\n",
    "  print(\"You passed the challenge. Great job!\")\n",
    "else:\n",
    "  print(\"The Mean Abs Error must be less than 3500. Keep trying.\")\n",
    "\n",
    "# Plot predictions.\n",
    "test_predictions = model.predict(test_dataset).flatten()\n",
    "\n",
    "a = plt.axes(aspect='equal')\n",
    "plt.scatter(test_labels, test_predictions)\n",
    "plt.xlabel('True values (expenses)')\n",
    "plt.ylabel('Predictions (expenses)')\n",
    "lims = [0, 50000]\n",
    "plt.xlim(lims)\n",
    "plt.ylim(lims)\n",
    "_ = plt.plot(lims,lims)\n"
   ]
  },
  {
   "cell_type": "code",
   "execution_count": null,
   "id": "existing-brand",
   "metadata": {},
   "outputs": [],
   "source": []
  }
 ],
 "metadata": {
  "kernelspec": {
   "display_name": "Python 3",
   "language": "python",
   "name": "python3"
  },
  "language_info": {
   "codemirror_mode": {
    "name": "ipython",
    "version": 3
   },
   "file_extension": ".py",
   "mimetype": "text/x-python",
   "name": "python",
   "nbconvert_exporter": "python",
   "pygments_lexer": "ipython3",
   "version": "3.8.7"
  }
 },
 "nbformat": 4,
 "nbformat_minor": 5
}
