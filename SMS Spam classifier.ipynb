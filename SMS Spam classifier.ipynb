{
 "cells": [
  {
   "cell_type": "markdown",
   "id": "raised-flexibility",
   "metadata": {},
   "source": [
    "Note: You are currently reading this using Google Colaboratory which is a cloud-hosted version of Jupyter Notebook. This is a document containing both text cells for documentation and runnable code cells. If you are unfamiliar with Jupyter Notebook, watch this 3-minute introduction before starting this challenge: https://www.youtube.com/watch?v=inN8seMm7UI\n",
    "\n",
    "In this challenge, you need to create a machine learning model that will classify SMS messages as either \"ham\" or \"spam\". A \"ham\" message is a normal message sent by a friend. A \"spam\" message is an advertisement or a message sent by a company.\n",
    "\n",
    "You should create a function called predict_message that takes a message string as an argument and returns a list. The first element in the list should be a number between zero and one that indicates the likeliness of \"ham\" (0) or \"spam\" (1). The second element in the list should be the word \"ham\" or \"spam\", depending on which is most likely.\n",
    "\n",
    "For this challenge, you will use the SMS Spam Collection dataset. The dataset has already been grouped into train data and test data.\n",
    "\n",
    "The first two cells import the libraries and data. The final cell tests your model and function. Add your code in between these cells"
   ]
  },
  {
   "cell_type": "code",
   "execution_count": 21,
   "id": "prostate-livestock",
   "metadata": {},
   "outputs": [
    {
     "name": "stderr",
     "output_type": "stream",
     "text": [
      "WARNING: You are using pip version 20.2.3; however, version 21.0.1 is available.\n",
      "You should consider upgrading via the 'c:\\users\\mail2\\envs\\mlearn\\scripts\\python.exe -m pip install --upgrade pip' command.\n"
     ]
    },
    {
     "name": "stdout",
     "output_type": "stream",
     "text": [
      "Requirement already satisfied: tf-nightly in c:\\users\\mail2\\envs\\mlearn\\lib\\site-packages (2.6.0.dev20210407)\n",
      "Requirement already satisfied: opt-einsum~=3.3.0 in c:\\users\\mail2\\envs\\mlearn\\lib\\site-packages (from tf-nightly) (3.3.0)\n",
      "Requirement already satisfied: wrapt~=1.12.1 in c:\\users\\mail2\\envs\\mlearn\\lib\\site-packages (from tf-nightly) (1.12.1)\n",
      "Requirement already satisfied: grpcio~=1.34.0 in c:\\users\\mail2\\envs\\mlearn\\lib\\site-packages (from tf-nightly) (1.34.1)\n",
      "Requirement already satisfied: protobuf>=3.9.2 in c:\\users\\mail2\\envs\\mlearn\\lib\\site-packages (from tf-nightly) (3.14.0)\n",
      "Requirement already satisfied: numpy~=1.19.2 in c:\\users\\mail2\\envs\\mlearn\\lib\\site-packages (from tf-nightly) (1.19.5)\n",
      "Requirement already satisfied: typing-extensions~=3.7.4 in c:\\users\\mail2\\envs\\mlearn\\lib\\site-packages (from tf-nightly) (3.7.4.3)\n",
      "Requirement already satisfied: h5py~=3.1.0 in c:\\users\\mail2\\envs\\mlearn\\lib\\site-packages (from tf-nightly) (3.1.0)\n",
      "Requirement already satisfied: gast==0.4.0 in c:\\users\\mail2\\envs\\mlearn\\lib\\site-packages (from tf-nightly) (0.4.0)\n",
      "Requirement already satisfied: astunparse~=1.6.3 in c:\\users\\mail2\\envs\\mlearn\\lib\\site-packages (from tf-nightly) (1.6.3)\n",
      "Requirement already satisfied: termcolor~=1.1.0 in c:\\users\\mail2\\envs\\mlearn\\lib\\site-packages (from tf-nightly) (1.1.0)\n",
      "Requirement already satisfied: wheel~=0.35 in c:\\users\\mail2\\envs\\mlearn\\lib\\site-packages (from tf-nightly) (0.36.2)\n",
      "Requirement already satisfied: absl-py~=0.10 in c:\\users\\mail2\\envs\\mlearn\\lib\\site-packages (from tf-nightly) (0.11.0)\n",
      "Requirement already satisfied: keras-nightly~=2.6.0.dev in c:\\users\\mail2\\envs\\mlearn\\lib\\site-packages (from tf-nightly) (2.6.0.dev2021040600)\n",
      "Requirement already satisfied: six~=1.15.0 in c:\\users\\mail2\\envs\\mlearn\\lib\\site-packages (from tf-nightly) (1.15.0)\n",
      "Requirement already satisfied: keras-preprocessing~=1.1.2 in c:\\users\\mail2\\envs\\mlearn\\lib\\site-packages (from tf-nightly) (1.1.2)\n",
      "Requirement already satisfied: google-pasta~=0.2 in c:\\users\\mail2\\envs\\mlearn\\lib\\site-packages (from tf-nightly) (0.2.0)\n",
      "Requirement already satisfied: flatbuffers~=1.12.0 in c:\\users\\mail2\\envs\\mlearn\\lib\\site-packages (from tf-nightly) (1.12)\n",
      "Requirement already satisfied: tf-estimator-nightly~=2.5.0.dev in c:\\users\\mail2\\envs\\mlearn\\lib\\site-packages (from tf-nightly) (2.5.0.dev2021032601)\n",
      "Requirement already satisfied: tb-nightly~=2.5.0.a in c:\\users\\mail2\\envs\\mlearn\\lib\\site-packages (from tf-nightly) (2.5.0a20210408)\n",
      "Requirement already satisfied: tensorboard-plugin-wit>=1.6.0 in c:\\users\\mail2\\envs\\mlearn\\lib\\site-packages (from tb-nightly~=2.5.0.a->tf-nightly) (1.7.0)\n",
      "Requirement already satisfied: requests<3,>=2.21.0 in c:\\users\\mail2\\envs\\mlearn\\lib\\site-packages (from tb-nightly~=2.5.0.a->tf-nightly) (2.25.1)\n",
      "Requirement already satisfied: werkzeug>=0.11.15 in c:\\users\\mail2\\envs\\mlearn\\lib\\site-packages (from tb-nightly~=2.5.0.a->tf-nightly) (1.0.1)\n",
      "Requirement already satisfied: google-auth<2,>=1.6.3 in c:\\users\\mail2\\envs\\mlearn\\lib\\site-packages (from tb-nightly~=2.5.0.a->tf-nightly) (1.24.0)\n",
      "Requirement already satisfied: tensorboard-data-server<0.7.0,>=0.6.0 in c:\\users\\mail2\\envs\\mlearn\\lib\\site-packages (from tb-nightly~=2.5.0.a->tf-nightly) (0.6.0)\n",
      "Requirement already satisfied: setuptools>=41.0.0 in c:\\users\\mail2\\envs\\mlearn\\lib\\site-packages (from tb-nightly~=2.5.0.a->tf-nightly) (49.2.1)\n",
      "Requirement already satisfied: markdown>=2.6.8 in c:\\users\\mail2\\envs\\mlearn\\lib\\site-packages (from tb-nightly~=2.5.0.a->tf-nightly) (3.3.3)\n",
      "Requirement already satisfied: google-auth-oauthlib<0.5,>=0.4.1 in c:\\users\\mail2\\envs\\mlearn\\lib\\site-packages (from tb-nightly~=2.5.0.a->tf-nightly) (0.4.2)\n",
      "Requirement already satisfied: idna<3,>=2.5 in c:\\users\\mail2\\envs\\mlearn\\lib\\site-packages (from requests<3,>=2.21.0->tb-nightly~=2.5.0.a->tf-nightly) (2.10)\n",
      "Requirement already satisfied: urllib3<1.27,>=1.21.1 in c:\\users\\mail2\\envs\\mlearn\\lib\\site-packages (from requests<3,>=2.21.0->tb-nightly~=2.5.0.a->tf-nightly) (1.26.2)\n",
      "Requirement already satisfied: certifi>=2017.4.17 in c:\\users\\mail2\\envs\\mlearn\\lib\\site-packages (from requests<3,>=2.21.0->tb-nightly~=2.5.0.a->tf-nightly) (2020.12.5)\n",
      "Requirement already satisfied: chardet<5,>=3.0.2 in c:\\users\\mail2\\envs\\mlearn\\lib\\site-packages (from requests<3,>=2.21.0->tb-nightly~=2.5.0.a->tf-nightly) (4.0.0)\n",
      "Requirement already satisfied: cachetools<5.0,>=2.0.0 in c:\\users\\mail2\\envs\\mlearn\\lib\\site-packages (from google-auth<2,>=1.6.3->tb-nightly~=2.5.0.a->tf-nightly) (4.2.0)\n",
      "Requirement already satisfied: rsa<5,>=3.1.4; python_version >= \"3.6\" in c:\\users\\mail2\\envs\\mlearn\\lib\\site-packages (from google-auth<2,>=1.6.3->tb-nightly~=2.5.0.a->tf-nightly) (4.7)\n",
      "Requirement already satisfied: pyasn1-modules>=0.2.1 in c:\\users\\mail2\\envs\\mlearn\\lib\\site-packages (from google-auth<2,>=1.6.3->tb-nightly~=2.5.0.a->tf-nightly) (0.2.8)\n",
      "Requirement already satisfied: requests-oauthlib>=0.7.0 in c:\\users\\mail2\\envs\\mlearn\\lib\\site-packages (from google-auth-oauthlib<0.5,>=0.4.1->tb-nightly~=2.5.0.a->tf-nightly) (1.3.0)\n",
      "Requirement already satisfied: pyasn1>=0.1.3 in c:\\users\\mail2\\envs\\mlearn\\lib\\site-packages (from rsa<5,>=3.1.4; python_version >= \"3.6\"->google-auth<2,>=1.6.3->tb-nightly~=2.5.0.a->tf-nightly) (0.4.8)\n",
      "Requirement already satisfied: oauthlib>=3.0.0 in c:\\users\\mail2\\envs\\mlearn\\lib\\site-packages (from requests-oauthlib>=0.7.0->google-auth-oauthlib<0.5,>=0.4.1->tb-nightly~=2.5.0.a->tf-nightly) (3.1.0)\n"
     ]
    },
    {
     "name": "stderr",
     "output_type": "stream",
     "text": [
      "WARNING: You are using pip version 20.2.3; however, version 21.0.1 is available.\n",
      "You should consider upgrading via the 'c:\\users\\mail2\\envs\\mlearn\\scripts\\python.exe -m pip install --upgrade pip' command.\n",
      "[nltk_data] Downloading package punkt to\n",
      "[nltk_data]     C:\\Users\\mail2\\AppData\\Roaming\\nltk_data...\n",
      "[nltk_data]   Package punkt is already up-to-date!\n"
     ]
    },
    {
     "name": "stdout",
     "output_type": "stream",
     "text": [
      "Requirement already satisfied: tensorflow-datasets in c:\\users\\mail2\\envs\\mlearn\\lib\\site-packages (4.2.0)\n",
      "Requirement already satisfied: numpy in c:\\users\\mail2\\envs\\mlearn\\lib\\site-packages (from tensorflow-datasets) (1.19.5)\n",
      "Requirement already satisfied: termcolor in c:\\users\\mail2\\envs\\mlearn\\lib\\site-packages (from tensorflow-datasets) (1.1.0)\n",
      "Requirement already satisfied: dill in c:\\users\\mail2\\envs\\mlearn\\lib\\site-packages (from tensorflow-datasets) (0.3.3)\n",
      "Requirement already satisfied: future in c:\\users\\mail2\\envs\\mlearn\\lib\\site-packages (from tensorflow-datasets) (0.18.2)\n",
      "Requirement already satisfied: tqdm in c:\\users\\mail2\\envs\\mlearn\\lib\\site-packages (from tensorflow-datasets) (4.60.0)\n",
      "Requirement already satisfied: promise in c:\\users\\mail2\\envs\\mlearn\\lib\\site-packages (from tensorflow-datasets) (2.3)\n",
      "Requirement already satisfied: six in c:\\users\\mail2\\envs\\mlearn\\lib\\site-packages (from tensorflow-datasets) (1.15.0)\n",
      "Requirement already satisfied: tensorflow-metadata in c:\\users\\mail2\\envs\\mlearn\\lib\\site-packages (from tensorflow-datasets) (0.29.0)\n",
      "Requirement already satisfied: importlib-resources; python_version < \"3.9\" in c:\\users\\mail2\\envs\\mlearn\\lib\\site-packages (from tensorflow-datasets) (5.1.2)\n",
      "Requirement already satisfied: requests>=2.19.0 in c:\\users\\mail2\\envs\\mlearn\\lib\\site-packages (from tensorflow-datasets) (2.25.1)\n",
      "Requirement already satisfied: attrs>=18.1.0 in c:\\users\\mail2\\envs\\mlearn\\lib\\site-packages (from tensorflow-datasets) (20.3.0)\n",
      "Requirement already satisfied: absl-py in c:\\users\\mail2\\envs\\mlearn\\lib\\site-packages (from tensorflow-datasets) (0.11.0)\n",
      "Requirement already satisfied: protobuf>=3.12.2 in c:\\users\\mail2\\envs\\mlearn\\lib\\site-packages (from tensorflow-datasets) (3.14.0)\n",
      "Requirement already satisfied: googleapis-common-protos<2,>=1.52.0 in c:\\users\\mail2\\envs\\mlearn\\lib\\site-packages (from tensorflow-metadata->tensorflow-datasets) (1.53.0)\n",
      "Requirement already satisfied: chardet<5,>=3.0.2 in c:\\users\\mail2\\envs\\mlearn\\lib\\site-packages (from requests>=2.19.0->tensorflow-datasets) (4.0.0)\n",
      "Requirement already satisfied: urllib3<1.27,>=1.21.1 in c:\\users\\mail2\\envs\\mlearn\\lib\\site-packages (from requests>=2.19.0->tensorflow-datasets) (1.26.2)\n",
      "Requirement already satisfied: certifi>=2017.4.17 in c:\\users\\mail2\\envs\\mlearn\\lib\\site-packages (from requests>=2.19.0->tensorflow-datasets) (2020.12.5)\n",
      "Requirement already satisfied: idna<3,>=2.5 in c:\\users\\mail2\\envs\\mlearn\\lib\\site-packages (from requests>=2.19.0->tensorflow-datasets) (2.10)\n",
      "2.6.0-dev20210407\n"
     ]
    }
   ],
   "source": [
    "# import libraries\n",
    "try:\n",
    "  # %tensorflow_version only exists in Colab.\n",
    "  !pip install tf-nightly\n",
    "except Exception:\n",
    "  pass\n",
    "import tensorflow as tf\n",
    "import pandas as pd\n",
    "from tensorflow import keras\n",
    "from tensorflow.keras import layers\n",
    "\n",
    "!pip install tensorflow-datasets\n",
    "import tensorflow_datasets as tfds\n",
    "import numpy as np\n",
    "import re\n",
    "import matplotlib.pyplot as plt\n",
    "import nltk\n",
    "nltk.download('punkt')\n",
    "from nltk.stem.lancaster import LancasterStemmer\n",
    "\n",
    "print(tf.__version__)"
   ]
  },
  {
   "cell_type": "code",
   "execution_count": 1,
   "id": "equivalent-robertson",
   "metadata": {},
   "outputs": [
    {
     "name": "stdout",
     "output_type": "stream",
     "text": [
      "INFO:tensorflow:Enabling eager execution\n",
      "INFO:tensorflow:Enabling v2 tensorshape\n",
      "INFO:tensorflow:Enabling resource variables\n",
      "INFO:tensorflow:Enabling tensor equality\n",
      "INFO:tensorflow:Enabling control flow v2\n"
     ]
    }
   ],
   "source": [
    "import pandas as pd\n",
    "import re\n",
    "import numpy as np\n",
    "import array as arr\n",
    "#import tensorflow as tf\n",
    "try:\n",
    "  # %tensorflow_version only exists in Colab.\n",
    "  %tensorflow_version 2.x\n",
    "except Exception:\n",
    "  pass\n",
    "import tensorflow as tf\n",
    "from tensorflow import keras\n",
    "import nltk\n",
    "#nltk.download('punkt')\n",
    "from nltk.stem.lancaster import LancasterStemmer"
   ]
  },
  {
   "cell_type": "code",
   "execution_count": 2,
   "id": "suspended-apartment",
   "metadata": {},
   "outputs": [],
   "source": [
    "# get data files\n",
    "#!wget https://cdn.freecodecamp.org/project-data/sms/train-data.tsv\n",
    "#!wget https://cdn.freecodecamp.org/project-data/sms/valid-data.tsv\n",
    "\n",
    "train_file_path = \"C:/Users/mail2/Envs/mlearn/train-data.tsv\"\n",
    "test_file_path = \"C:/Users/mail2/Envs/mlearn/valid-data.tsv\""
   ]
  },
  {
   "cell_type": "code",
   "execution_count": 4,
   "id": "optional-independence",
   "metadata": {},
   "outputs": [],
   "source": [
    "training_dataset = pd.read_csv('C:/Users/mail2/Envs/mlearn/train-data.tsv', sep='\\t',header=None,names=['class','text'])\n",
    "testing_dataset = pd.read_csv('C:/Users/mail2/Envs/mlearn/valid-data.tsv', sep='\\t',header=None,names=['class','text'])"
   ]
  },
  {
   "cell_type": "code",
   "execution_count": 5,
   "id": "trained-forest",
   "metadata": {},
   "outputs": [
    {
     "data": {
      "text/html": [
       "<div>\n",
       "<style scoped>\n",
       "    .dataframe tbody tr th:only-of-type {\n",
       "        vertical-align: middle;\n",
       "    }\n",
       "\n",
       "    .dataframe tbody tr th {\n",
       "        vertical-align: top;\n",
       "    }\n",
       "\n",
       "    .dataframe thead th {\n",
       "        text-align: right;\n",
       "    }\n",
       "</style>\n",
       "<table border=\"1\" class=\"dataframe\">\n",
       "  <thead>\n",
       "    <tr style=\"text-align: right;\">\n",
       "      <th></th>\n",
       "      <th>class</th>\n",
       "      <th>text</th>\n",
       "    </tr>\n",
       "  </thead>\n",
       "  <tbody>\n",
       "    <tr>\n",
       "      <th>0</th>\n",
       "      <td>ham</td>\n",
       "      <td>ahhhh...just woken up!had a bad dream about u ...</td>\n",
       "    </tr>\n",
       "    <tr>\n",
       "      <th>1</th>\n",
       "      <td>ham</td>\n",
       "      <td>you can never do nothing</td>\n",
       "    </tr>\n",
       "    <tr>\n",
       "      <th>2</th>\n",
       "      <td>ham</td>\n",
       "      <td>now u sound like manky scouse boy steve,like! ...</td>\n",
       "    </tr>\n",
       "    <tr>\n",
       "      <th>3</th>\n",
       "      <td>ham</td>\n",
       "      <td>mum say we wan to go then go... then she can s...</td>\n",
       "    </tr>\n",
       "    <tr>\n",
       "      <th>4</th>\n",
       "      <td>ham</td>\n",
       "      <td>never y lei... i v lazy... got wat? dat day ü ...</td>\n",
       "    </tr>\n",
       "  </tbody>\n",
       "</table>\n",
       "</div>"
      ],
      "text/plain": [
       "  class                                               text\n",
       "0   ham  ahhhh...just woken up!had a bad dream about u ...\n",
       "1   ham                           you can never do nothing\n",
       "2   ham  now u sound like manky scouse boy steve,like! ...\n",
       "3   ham  mum say we wan to go then go... then she can s...\n",
       "4   ham  never y lei... i v lazy... got wat? dat day ü ..."
      ]
     },
     "execution_count": 5,
     "metadata": {},
     "output_type": "execute_result"
    }
   ],
   "source": [
    "training_dataset.head()"
   ]
  },
  {
   "cell_type": "code",
   "execution_count": 6,
   "id": "rural-tournament",
   "metadata": {},
   "outputs": [
    {
     "data": {
      "text/plain": [
       "1392"
      ]
     },
     "execution_count": 6,
     "metadata": {},
     "output_type": "execute_result"
    }
   ],
   "source": [
    "len(testing_dataset)"
   ]
  },
  {
   "cell_type": "code",
   "execution_count": 7,
   "id": "considerable-advertiser",
   "metadata": {},
   "outputs": [],
   "source": [
    "#clean the data\n",
    "def clean_the_dataset(dataset):\n",
    "    for j in range(len(dataset)):\n",
    "        sen = dataset.iloc[j,1]\n",
    "        punc = '''()-[]{}:;'\"\\,<>./?#$%^&*_~'''\n",
    "        #print(sen)\n",
    "        for ele in sen:\n",
    "            if ele in punc:\n",
    "                sen=sen.replace(ele,'')\n",
    "      \n",
    "        w=re.split(r\"\\s\",sen)\n",
    "\n",
    "    #print(w)\n",
    "    #sentence=[]\n",
    "        for i in range(len(w)):\n",
    "            if(len(w[i])==1 or len(w[i])==2):\n",
    "                w[i]=\"\"\n",
    "            if(w[i].isnumeric()):\n",
    "                w[i]='number'\n",
    "            w[i]=re.sub(r\"[\\w\\W]+[\\d]+[\\w]+\",'alpha_number', w[i])\n",
    "            w[i]=re.sub(r\"(www\\w+)\",'web_site', w[i])\n",
    "     \n",
    "        while(\"\" in w) :\n",
    "            w.remove(\"\")\n",
    "        sentence = \" \".join(w)    \n",
    "        dataset.iat[j,1]=sentence\n",
    "    return dataset"
   ]
  },
  {
   "cell_type": "code",
   "execution_count": 8,
   "id": "everyday-viewer",
   "metadata": {},
   "outputs": [],
   "source": [
    "training_dataset = clean_the_dataset(training_dataset)\n",
    "testing_dataset = clean_the_dataset(testing_dataset)"
   ]
  },
  {
   "cell_type": "code",
   "execution_count": 9,
   "id": "major-mongolia",
   "metadata": {},
   "outputs": [
    {
     "data": {
      "text/plain": [
       "(4179, 2)"
      ]
     },
     "execution_count": 9,
     "metadata": {},
     "output_type": "execute_result"
    }
   ],
   "source": [
    "training_dataset.shape"
   ]
  },
  {
   "cell_type": "code",
   "execution_count": 10,
   "id": "blank-telescope",
   "metadata": {},
   "outputs": [],
   "source": [
    "def prepare_the_data(dataset):\n",
    "    words = []\n",
    "    classes = []\n",
    "    documents = []\n",
    "    stemmer = LancasterStemmer()\n",
    "    ignore_words = ['?','!','#', '&', \"'ll\", \"'m\", \"'s\", ')', '*', ',', '-', '.', '..', '...',':', ';','',]\n",
    "    # loop through each sentence in our training data\n",
    "    for pattern in dataset.to_numpy():\n",
    "        # tokenize each word in the sentence\n",
    "        w = nltk.word_tokenize(pattern[1])\n",
    "        # add to our words list\n",
    "\n",
    "        words.extend(w)\n",
    "        # add to documents in our corpus\n",
    "        documents.append((w, pattern[0]))\n",
    "        # add to our classes list\n",
    "        if pattern[0] not in classes:\n",
    "            classes.append(pattern[0])\n",
    "\n",
    "    # stem and lower each word and remove duplicates\n",
    "    words = [stemmer.stem(word.lower()) for word in words if word not in ignore_words]\n",
    "    uniqwords = list(set(words))\n",
    "\n",
    "    # remove duplicates\n",
    "    classes = list(set(classes))\n",
    "    return words,classes,documents\n",
    "    \n",
    "    "
   ]
  },
  {
   "cell_type": "code",
   "execution_count": 11,
   "id": "small-crest",
   "metadata": {},
   "outputs": [
    {
     "name": "stdout",
     "output_type": "stream",
     "text": [
      "4179 training data documents\n",
      "2 classes ['spam', 'ham']\n",
      "48140 train_stemmedwords\n",
      "1392 training data documents\n",
      "2 classes ['spam', 'ham']\n",
      "15962 test_stemmedwords\n"
     ]
    }
   ],
   "source": [
    "    train_stemmedwords,classes, training_doc = prepare_the_data(training_dataset)\n",
    "    print (len(training_doc), \"training data documents\")\n",
    "    print (len(classes), \"classes\", classes)\n",
    "    print (len(train_stemmedwords), \"train_stemmedwords\") #train_stemmedwords\n",
    "\n",
    "    test_stemmedwords,classes, testing_doc = prepare_the_data(testing_dataset)\n",
    "    print (len(testing_doc), \"training data documents\")\n",
    "    print (len(classes), \"classes\", classes)\n",
    "    print (len(test_stemmedwords), \"test_stemmedwords\") #, test_stemmedwords"
   ]
  },
  {
   "cell_type": "code",
   "execution_count": 134,
   "id": "changing-malaysia",
   "metadata": {},
   "outputs": [
    {
     "data": {
      "text/plain": [
       "114"
      ]
     },
     "execution_count": 134,
     "metadata": {},
     "output_type": "execute_result"
    }
   ],
   "source": [
    "# finding most used words\n",
    "\n",
    "words_counted=np.unique(train_stemmedwords, return_counts=True)\n",
    "vocab_list=[]\n",
    "# df_books1=df_books.copy()\n",
    "len(words_counted[0])\n",
    "for i in range(len(words_counted[0])):\n",
    "    if words_counted[1][i]>=75:\n",
    "    #df_books1.drop(df_books1[df_books1.isbn== books_rated[0][i]].index, inplace = True)\n",
    "        vocab_list.append(words_counted[0][i])\n",
    "len(vocab_list)\n"
   ]
  },
  {
   "cell_type": "code",
   "execution_count": 135,
   "id": "novel-project",
   "metadata": {},
   "outputs": [
    {
     "data": {
      "text/plain": [
       "['about',\n",
       " 'aft',\n",
       " 'al',\n",
       " 'alpha_number',\n",
       " 'and',\n",
       " 'any',\n",
       " 'ar',\n",
       " 'ask',\n",
       " 'back',\n",
       " 'been',\n",
       " 'but',\n",
       " 'cal',\n",
       " 'can',\n",
       " 'cant',\n",
       " 'car',\n",
       " 'com',\n",
       " 'day',\n",
       " 'dear',\n",
       " 'did',\n",
       " 'dont',\n",
       " 'ev',\n",
       " 'fin',\n",
       " 'for',\n",
       " 'fre',\n",
       " 'friend',\n",
       " 'from',\n",
       " 'get',\n",
       " 'giv',\n",
       " 'going',\n",
       " 'good',\n",
       " 'got',\n",
       " 'gre',\n",
       " 'happy',\n",
       " 'has',\n",
       " 'hav',\n",
       " 'her',\n",
       " 'hey',\n",
       " 'him',\n",
       " 'hom',\n",
       " 'hop',\n",
       " 'how',\n",
       " 'il',\n",
       " 'it',\n",
       " 'just',\n",
       " 'know',\n",
       " 'lat',\n",
       " 'lik',\n",
       " 'lor',\n",
       " 'lov',\n",
       " 'ltgt',\n",
       " 'mak',\n",
       " 'meet',\n",
       " 'mess',\n",
       " 'min',\n",
       " 'miss',\n",
       " 'mobl',\n",
       " 'mor',\n",
       " 'much',\n",
       " 'nee',\n",
       " 'new',\n",
       " 'night',\n",
       " 'not',\n",
       " 'now',\n",
       " 'numb',\n",
       " 'off',\n",
       " 'on',\n",
       " 'our',\n",
       " 'out',\n",
       " 'phon',\n",
       " 'pleas',\n",
       " 'pls',\n",
       " 'real',\n",
       " 'reply',\n",
       " 'say',\n",
       " 'see',\n",
       " 'send',\n",
       " 'she',\n",
       " 'som',\n",
       " 'sorry',\n",
       " 'stil',\n",
       " 'stop',\n",
       " 'tak',\n",
       " 'tel',\n",
       " 'text',\n",
       " 'that',\n",
       " 'the',\n",
       " 'then',\n",
       " 'ther',\n",
       " 'they',\n",
       " 'thi',\n",
       " 'thing',\n",
       " 'think',\n",
       " 'tim',\n",
       " 'today',\n",
       " 'tomorrow',\n",
       " 'too',\n",
       " 'txt',\n",
       " 'wait',\n",
       " 'want',\n",
       " 'was',\n",
       " 'wat',\n",
       " 'way',\n",
       " 'week',\n",
       " 'wel',\n",
       " 'what',\n",
       " 'when',\n",
       " 'wher',\n",
       " 'who',\n",
       " 'wil',\n",
       " 'win',\n",
       " 'with',\n",
       " 'work',\n",
       " 'yo',\n",
       " 'you']"
      ]
     },
     "execution_count": 135,
     "metadata": {},
     "output_type": "execute_result"
    }
   ],
   "source": [
    "vocab_list"
   ]
  },
  {
   "cell_type": "code",
   "execution_count": 136,
   "id": "antique-somewhere",
   "metadata": {},
   "outputs": [],
   "source": [
    "def prepare_bag(documents):\n",
    "    Xdata = []\n",
    "    ydata = []\n",
    "    stemmer = LancasterStemmer()\n",
    "   \n",
    "#     df = pd.DataFrame()\n",
    "    \n",
    "    # training set, bag of words for each sentence\n",
    "    for doc in documents:\n",
    "        # initialize our bag of words\n",
    "        bag=[]\n",
    "        # list of tokenized words for the pattern\n",
    "        pattern_words = doc[0]\n",
    "        # stem each word\n",
    "        pattern_words = [stemmer.stem(word.lower()) for word in pattern_words]\n",
    "        # create our bag of words array\n",
    "        for w in vocab_list:\n",
    "            bag.append(1) if w in pattern_words else bag.append(0)\n",
    "\n",
    "        Xdata.append(bag)\n",
    "        # output is a '0' for each tag and '1' for current tag\n",
    "        #output_row = list(output_empty)\n",
    "        #output_row[classes.index(doc[1])] = 1\n",
    "        y = 1 if doc[1]==\"spam\" else 0\n",
    "        ydata.append(y)\n",
    "#        data ={'x':bag,'y':y}\n",
    "#     df= df.append(data,ignore_index=True)\n",
    "    return Xdata,ydata\n"
   ]
  },
  {
   "cell_type": "code",
   "execution_count": 137,
   "id": "occasional-kinase",
   "metadata": {},
   "outputs": [],
   "source": [
    "training_data,training_labels=prepare_bag(training_doc)\n",
    "testing_data,testing_labels=prepare_bag(testing_doc)\n",
    "# target=training_df.pop('y')\n",
    "\n",
    "# training_dataset_tf = tf.data.Dataset.from_tensor_slices((training_df.values, target.values))"
   ]
  },
  {
   "cell_type": "code",
   "execution_count": 138,
   "id": "artificial-yeast",
   "metadata": {},
   "outputs": [
    {
     "data": {
      "text/plain": [
       "114"
      ]
     },
     "execution_count": 138,
     "metadata": {},
     "output_type": "execute_result"
    }
   ],
   "source": [
    "training_doc[0]\n",
    "len(training_data[0])"
   ]
  },
  {
   "cell_type": "code",
   "execution_count": null,
   "id": "narrow-smart",
   "metadata": {},
   "outputs": [],
   "source": []
  },
  {
   "cell_type": "code",
   "execution_count": 142,
   "id": "electric-hundred",
   "metadata": {},
   "outputs": [
    {
     "name": "stdout",
     "output_type": "stream",
     "text": [
      "Model: \"sequential_3\"\n",
      "_________________________________________________________________\n",
      "Layer (type)                 Output Shape              Param #   \n",
      "=================================================================\n",
      "dense_9 (Dense)              (None, 256)               29440     \n",
      "_________________________________________________________________\n",
      "dense_10 (Dense)             (None, 128)               32896     \n",
      "_________________________________________________________________\n",
      "dense_11 (Dense)             (None, 1)                 129       \n",
      "=================================================================\n",
      "Total params: 62,465\n",
      "Trainable params: 62,465\n",
      "Non-trainable params: 0\n",
      "_________________________________________________________________\n"
     ]
    }
   ],
   "source": [
    "# from tensorflow.keras import layers\n",
    "# model = tf.keras.Sequential([\n",
    "  \n",
    "  \n",
    "#  # layers.Dense(265),\n",
    "#   #layers.Dropout(0.2),\n",
    "#   layers.Dense(1)])\n",
    "model = keras.Sequential([\n",
    "#     keras.layers.Input(shape=(182,1)),\n",
    "    keras.layers.Dense(units=256,activation='relu',input_shape=(114,)),\n",
    "    keras.layers.Dense(units=128,activation='relu'),\n",
    "    keras.layers.Dense(units=1)\n",
    "]) \n",
    "model.summary()"
   ]
  },
  {
   "cell_type": "code",
   "execution_count": 143,
   "id": "middle-permission",
   "metadata": {},
   "outputs": [],
   "source": [
    "model.compile(optimizer ='adam',\n",
    "                 loss ='binary_crossentropy',\n",
    "                 metrics =['accuracy'])"
   ]
  },
  {
   "cell_type": "code",
   "execution_count": 144,
   "id": "russian-thickness",
   "metadata": {},
   "outputs": [
    {
     "name": "stdout",
     "output_type": "stream",
     "text": [
      "Epoch 1/16\n",
      "131/131 [==============================] - 2s 2ms/step - loss: 0.2573 - accuracy: 0.9513\n",
      "Epoch 2/16\n",
      "131/131 [==============================] - 0s 3ms/step - loss: 0.1374 - accuracy: 0.9798\n",
      "Epoch 3/16\n",
      "131/131 [==============================] - 1s 3ms/step - loss: 0.1071 - accuracy: 0.9902\n",
      "Epoch 4/16\n",
      "131/131 [==============================] - 1s 3ms/step - loss: 0.1193 - accuracy: 0.9911\n",
      "Epoch 5/16\n",
      "131/131 [==============================] - 1s 4ms/step - loss: 0.0844 - accuracy: 0.9934\n",
      "Epoch 6/16\n",
      "131/131 [==============================] - 0s 3ms/step - loss: 0.0877 - accuracy: 0.9936\n",
      "Epoch 7/16\n",
      "131/131 [==============================] - 1s 4ms/step - loss: 0.0909 - accuracy: 0.9934: 0s - loss: 0.0909 - accuracy: 0.99\n",
      "Epoch 8/16\n",
      "131/131 [==============================] - 0s 3ms/step - loss: 0.1006 - accuracy: 0.9932\n",
      "Epoch 9/16\n",
      "131/131 [==============================] - 1s 5ms/step - loss: 0.0836 - accuracy: 0.9938\n",
      "Epoch 10/16\n",
      "131/131 [==============================] - 0s 3ms/step - loss: 0.1247 - accuracy: 0.9914\n",
      "Epoch 11/16\n",
      "131/131 [==============================] - 1s 4ms/step - loss: 0.0669 - accuracy: 0.9954\n",
      "Epoch 12/16\n",
      "131/131 [==============================] - 1s 5ms/step - loss: 0.0676 - accuracy: 0.9952\n",
      "Epoch 13/16\n",
      "131/131 [==============================] - 1s 4ms/step - loss: 0.0735 - accuracy: 0.9949\n",
      "Epoch 14/16\n",
      "131/131 [==============================] - 1s 2ms/step - loss: 0.0751 - accuracy: 0.9948\n",
      "Epoch 15/16\n",
      "131/131 [==============================] - 1s 3ms/step - loss: 0.1145 - accuracy: 0.9920\n",
      "Epoch 16/16\n",
      "131/131 [==============================] - 0s 3ms/step - loss: 0.0924 - accuracy: 0.9937\n"
     ]
    }
   ],
   "source": [
    "history=model.fit(training_data, training_labels,\n",
    "                    epochs=16\n",
    "                    )"
   ]
  },
  {
   "cell_type": "code",
   "execution_count": 46,
   "id": "toxic-punishment",
   "metadata": {},
   "outputs": [
    {
     "name": "stdout",
     "output_type": "stream",
     "text": [
      "44/44 [==============================] - 0s 1ms/step - loss: 0.1264 - accuracy: 0.9849\n"
     ]
    }
   ],
   "source": [
    "loss, accuracy = model.evaluate(testing_data,testing_labels)"
   ]
  },
  {
   "cell_type": "code",
   "execution_count": 51,
   "id": "shared-workstation",
   "metadata": {},
   "outputs": [],
   "source": [
    "# return bag of words array: 0 or 1 for each word in the bag that exists in the sentence\n",
    "def bow(sentence, words, show_details=False):\n",
    "    # tokenize the pattern\n",
    "    sentence_words = clean_up_sentence(sentence)\n",
    "    # bag of words\n",
    "    bag = []\n",
    "    for w in words:\n",
    "            bag.append(1) if w in sentence_words else bag.append(0)\n",
    "    return(bag)\n",
    "\n",
    "def clean_up_sentence(sentence):\n",
    "    # tokenize the pattern\n",
    "    stemmer = LancasterStemmer()\n",
    "    ignore_words = ['?','!','#', '&', \"'ll\", \"'m\", \"'s\", ')', '*', ',', '-', '.', '..', '...',':', ';','',]\n",
    "    sentence_words = nltk.word_tokenize(sentence)\n",
    "    # stem each word\n",
    "    sentence_words = [stemmer.stem(word.lower()) for word in sentence_words if word not in ignore_words]\n",
    "    return sentence_words"
   ]
  },
  {
   "cell_type": "code",
   "execution_count": 119,
   "id": "sexual-studio",
   "metadata": {},
   "outputs": [
    {
     "name": "stdout",
     "output_type": "stream",
     "text": [
      "[[0, 0, 0, 0, 0, 0, 0, 0, 0, 0, 0, 0, 0, 0, 0, 0, 0, 0, 0, 0, 0, 0, 0, 0, 0, 0, 0, 0, 0, 0, 0, 0, 0, 0, 0, 0, 0, 0, 0, 0, 0, 0, 0, 0, 0, 0, 0, 1, 0, 0, 0, 0, 0, 0, 0, 0, 0, 0, 0, 0, 0, 0, 0, 0, 0, 0, 0, 0, 0, 0, 0, 0, 0, 0, 0, 0, 0, 0, 0, 0, 0, 0, 0, 0, 0, 0, 0, 0, 0, 0, 0, 0, 0, 0, 0, 0, 0, 0, 0, 0, 0, 0, 0, 0, 0, 0, 0, 0, 0, 0, 0, 0, 0, 0, 0, 0, 0, 0, 0, 0, 0, 0, 0, 0, 0, 0, 0, 0, 0, 0, 0, 0, 0, 0, 0, 0, 0, 0, 0, 0, 0, 0, 0, 0, 0, 0, 0, 0, 0, 0, 0, 0, 0, 0, 0, 0, 0, 0, 0, 0, 0, 0, 0, 0, 0, 0, 0, 0, 0, 0, 0, 0, 0, 0, 0, 0, 0, 0, 0]]\n"
     ]
    },
    {
     "data": {
      "text/plain": [
       "-1.2300739"
      ]
     },
     "execution_count": 119,
     "metadata": {},
     "output_type": "execute_result"
    }
   ],
   "source": [
    "w= bow(\"i'm going to boston\",vocab_list,True)\n",
    "print([w])\n",
    "w=[[-1.2300739]]\n",
    "w[0][0]"
   ]
  },
  {
   "cell_type": "code",
   "execution_count": 127,
   "id": "freelance-finding",
   "metadata": {},
   "outputs": [],
   "source": [
    "# function to predict messages based on model\n",
    "# (should return list containing prediction and label, ex. [0.008318834938108921, 'ham'])\n",
    "def predict_message(pred_text):\n",
    "   # pred_text1=[pred_text,]\n",
    "#     Xpred=[]\n",
    "#     for p in pred_text:\n",
    "    bag=bow(pred_text,vocab_list,True)\n",
    "#         Xpred.append(bag)\n",
    "    probability = model.predict([bag])\n",
    "    \n",
    "    if probability[0][0] < 0:\n",
    "         ans='ham'  \n",
    "    else: \n",
    "        ans='spam'\n",
    "    result=[probability[0][0], ans]\n",
    "    return result\n",
    "\n",
    "#pred_text = \"how are you doing today?\"\n",
    "# predict_message(pred_text)\n",
    "# print(prediction)"
   ]
  },
  {
   "cell_type": "code",
   "execution_count": 128,
   "id": "unknown-softball",
   "metadata": {},
   "outputs": [
    {
     "name": "stdout",
     "output_type": "stream",
     "text": [
      "[-1.2300739, 'ham']\n"
     ]
    }
   ],
   "source": [
    "pred_text = \"how are you doing today?\"\n",
    "prediction=predict_message(pred_text)\n",
    "print(prediction)\n"
   ]
  },
  {
   "cell_type": "code",
   "execution_count": 129,
   "id": "alert-bottle",
   "metadata": {},
   "outputs": [
    {
     "name": "stdout",
     "output_type": "stream",
     "text": [
      "You passed the challenge. Great job!\n"
     ]
    }
   ],
   "source": [
    "# Run this cell to test your function and model. Do not modify contents.\n",
    "def test_predictions():\n",
    "  test_messages = [\"how are you doing today\",\n",
    "                   \"sale today! to stop texts call 98912460324\",\n",
    "                   \"i dont want to go. can we try it a different day? available sat\",\n",
    "                   \"our new mobile video service is live. just install on your phone to start watching.\",\n",
    "                   \"you have won £1000 cash! call to claim your prize.\",\n",
    "                   \"i'll bring it tomorrow. don't forget the milk.\",\n",
    "                   \"wow, is your arm alright. that happened to me one time too\"\n",
    "                  ]\n",
    "\n",
    "  test_answers = [\"ham\", \"spam\", \"ham\", \"spam\", \"spam\", \"ham\", \"ham\"]\n",
    "  passed = True\n",
    "\n",
    "  for msg, ans in zip(test_messages, test_answers):\n",
    "    prediction = predict_message(msg)\n",
    "    if prediction[1] != ans:\n",
    "      passed = False\n",
    "\n",
    "  if passed:\n",
    "    print(\"You passed the challenge. Great job!\")\n",
    "  else:\n",
    "    print(\"You haven't passed yet. Keep trying.\")\n",
    "\n",
    "test_predictions()\n"
   ]
  },
  {
   "cell_type": "code",
   "execution_count": null,
   "id": "together-finding",
   "metadata": {},
   "outputs": [],
   "source": []
  }
 ],
 "metadata": {
  "kernelspec": {
   "display_name": "Python 3",
   "language": "python",
   "name": "python3"
  },
  "language_info": {
   "codemirror_mode": {
    "name": "ipython",
    "version": 3
   },
   "file_extension": ".py",
   "mimetype": "text/x-python",
   "name": "python",
   "nbconvert_exporter": "python",
   "pygments_lexer": "ipython3",
   "version": "3.8.7"
  }
 },
 "nbformat": 4,
 "nbformat_minor": 5
}
