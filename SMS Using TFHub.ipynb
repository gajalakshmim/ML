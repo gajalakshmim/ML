{
 "cells": [
  {
   "cell_type": "code",
   "execution_count": 4,
   "id": "removed-resistance",
   "metadata": {},
   "outputs": [
    {
     "name": "stdout",
     "output_type": "stream",
     "text": [
      "Version:  2.6.0-dev20210407\n",
      "Eager mode:  True\n",
      "Hub version:  0.11.0\n",
      "GPU is NOT AVAILABLE\n"
     ]
    }
   ],
   "source": [
    "import os\n",
    "import numpy as np\n",
    "import pandas as pd\n",
    "\n",
    "import tensorflow as tf\n",
    "import tensorflow_hub as hub\n",
    "import tensorflow_datasets as tfds\n",
    "\n",
    "print(\"Version: \", tf.__version__)\n",
    "print(\"Eager mode: \", tf.executing_eagerly())\n",
    "print(\"Hub version: \", hub.__version__)\n",
    "print(\"GPU is\", \"available\" if tf.config.list_physical_devices(\"GPU\") else \"NOT AVAILABLE\")"
   ]
  },
  {
   "cell_type": "code",
   "execution_count": 55,
   "id": "pediatric-necessity",
   "metadata": {},
   "outputs": [],
   "source": [
    "# get data files\n",
    "#!wget https://cdn.freecodecamp.org/project-data/sms/train-data.tsv\n",
    "#!wget https://cdn.freecodecamp.org/project-data/sms/valid-data.tsv\n",
    "\n",
    "train_file_path = \"C:/Users/mail2/Envs/mlearn/train-data.tsv\"\n",
    "test_file_path = \"C:/Users/mail2/Envs/mlearn/valid-data.tsv\""
   ]
  },
  {
   "cell_type": "code",
   "execution_count": 99,
   "id": "registered-estonia",
   "metadata": {},
   "outputs": [],
   "source": [
    "# read the dataset into pandas dataframe\n",
    "training_dataset = pd.read_csv('C:/Users/mail2/Envs/mlearn/train-data.tsv', sep='\\t',header=0,names=['class','text'])\n",
    "testing_dataset = pd.read_csv('C:/Users/mail2/Envs/mlearn/valid-data.tsv', sep='\\t',header=0,names=['class','text'])"
   ]
  },
  {
   "cell_type": "code",
   "execution_count": 57,
   "id": "understanding-senator",
   "metadata": {},
   "outputs": [
    {
     "data": {
      "text/html": [
       "<div>\n",
       "<style scoped>\n",
       "    .dataframe tbody tr th:only-of-type {\n",
       "        vertical-align: middle;\n",
       "    }\n",
       "\n",
       "    .dataframe tbody tr th {\n",
       "        vertical-align: top;\n",
       "    }\n",
       "\n",
       "    .dataframe thead th {\n",
       "        text-align: right;\n",
       "    }\n",
       "</style>\n",
       "<table border=\"1\" class=\"dataframe\">\n",
       "  <thead>\n",
       "    <tr style=\"text-align: right;\">\n",
       "      <th></th>\n",
       "      <th>class</th>\n",
       "      <th>text</th>\n",
       "    </tr>\n",
       "  </thead>\n",
       "  <tbody>\n",
       "    <tr>\n",
       "      <th>0</th>\n",
       "      <td>ham</td>\n",
       "      <td>you can never do nothing</td>\n",
       "    </tr>\n",
       "    <tr>\n",
       "      <th>1</th>\n",
       "      <td>ham</td>\n",
       "      <td>now u sound like manky scouse boy steve,like! ...</td>\n",
       "    </tr>\n",
       "    <tr>\n",
       "      <th>2</th>\n",
       "      <td>ham</td>\n",
       "      <td>mum say we wan to go then go... then she can s...</td>\n",
       "    </tr>\n",
       "    <tr>\n",
       "      <th>3</th>\n",
       "      <td>ham</td>\n",
       "      <td>never y lei... i v lazy... got wat? dat day ü ...</td>\n",
       "    </tr>\n",
       "    <tr>\n",
       "      <th>4</th>\n",
       "      <td>ham</td>\n",
       "      <td>in xam hall boy asked girl tell me the startin...</td>\n",
       "    </tr>\n",
       "  </tbody>\n",
       "</table>\n",
       "</div>"
      ],
      "text/plain": [
       "  class                                               text\n",
       "0   ham                           you can never do nothing\n",
       "1   ham  now u sound like manky scouse boy steve,like! ...\n",
       "2   ham  mum say we wan to go then go... then she can s...\n",
       "3   ham  never y lei... i v lazy... got wat? dat day ü ...\n",
       "4   ham  in xam hall boy asked girl tell me the startin..."
      ]
     },
     "execution_count": 57,
     "metadata": {},
     "output_type": "execute_result"
    }
   ],
   "source": [
    "training_dataset.head()"
   ]
  },
  {
   "cell_type": "code",
   "execution_count": 58,
   "id": "neutral-baker",
   "metadata": {},
   "outputs": [],
   "source": [
    "# Convert the class values to 1,0s\n",
    "training_dataset['spam'] = training_dataset['class']\n",
    "training_dataset['spam'] = pd.Categorical(training_dataset['spam'])\n",
    "training_dataset['spam'] = training_dataset.spam.cat.codes\n",
    "training_dataset = training_dataset.drop(columns='class')\n",
    "target = training_dataset.pop('spam')\n",
    "\n"
   ]
  },
  {
   "cell_type": "code",
   "execution_count": 59,
   "id": "hearing-intersection",
   "metadata": {},
   "outputs": [
    {
     "data": {
      "text/html": [
       "<div>\n",
       "<style scoped>\n",
       "    .dataframe tbody tr th:only-of-type {\n",
       "        vertical-align: middle;\n",
       "    }\n",
       "\n",
       "    .dataframe tbody tr th {\n",
       "        vertical-align: top;\n",
       "    }\n",
       "\n",
       "    .dataframe thead th {\n",
       "        text-align: right;\n",
       "    }\n",
       "</style>\n",
       "<table border=\"1\" class=\"dataframe\">\n",
       "  <thead>\n",
       "    <tr style=\"text-align: right;\">\n",
       "      <th></th>\n",
       "      <th>text</th>\n",
       "    </tr>\n",
       "  </thead>\n",
       "  <tbody>\n",
       "    <tr>\n",
       "      <th>0</th>\n",
       "      <td>you can never do nothing</td>\n",
       "    </tr>\n",
       "    <tr>\n",
       "      <th>1</th>\n",
       "      <td>now u sound like manky scouse boy steve,like! ...</td>\n",
       "    </tr>\n",
       "    <tr>\n",
       "      <th>2</th>\n",
       "      <td>mum say we wan to go then go... then she can s...</td>\n",
       "    </tr>\n",
       "    <tr>\n",
       "      <th>3</th>\n",
       "      <td>never y lei... i v lazy... got wat? dat day ü ...</td>\n",
       "    </tr>\n",
       "    <tr>\n",
       "      <th>4</th>\n",
       "      <td>in xam hall boy asked girl tell me the startin...</td>\n",
       "    </tr>\n",
       "  </tbody>\n",
       "</table>\n",
       "</div>"
      ],
      "text/plain": [
       "                                                text\n",
       "0                           you can never do nothing\n",
       "1  now u sound like manky scouse boy steve,like! ...\n",
       "2  mum say we wan to go then go... then she can s...\n",
       "3  never y lei... i v lazy... got wat? dat day ü ...\n",
       "4  in xam hall boy asked girl tell me the startin..."
      ]
     },
     "execution_count": 59,
     "metadata": {},
     "output_type": "execute_result"
    }
   ],
   "source": [
    "\n",
    "training_dataset.head()"
   ]
  },
  {
   "cell_type": "code",
   "execution_count": 53,
   "id": "photographic-dancing",
   "metadata": {},
   "outputs": [
    {
     "data": {
      "text/plain": [
       "0    0\n",
       "1    0\n",
       "2    0\n",
       "3    0\n",
       "4    0\n",
       "Name: spam, dtype: int8"
      ]
     },
     "execution_count": 53,
     "metadata": {},
     "output_type": "execute_result"
    }
   ],
   "source": [
    "target.head()"
   ]
  },
  {
   "cell_type": "code",
   "execution_count": 75,
   "id": "adequate-pittsburgh",
   "metadata": {},
   "outputs": [],
   "source": [
    "# convert the pandas dataframe to tensor dataset\n",
    "training_list = training_dataset.values.tolist()\n",
    "newlist = [item for items in training_list for item in items]\n",
    "training_dataset_tf = tf.data.Dataset.from_tensor_slices((newlist, target.values))"
   ]
  },
  {
   "cell_type": "code",
   "execution_count": 82,
   "id": "varying-parent",
   "metadata": {},
   "outputs": [
    {
     "data": {
      "text/plain": [
       "<tf.Tensor: shape=(10,), dtype=string, numpy=\n",
       "array([b'you can never do nothing',\n",
       "       b'now u sound like manky scouse boy steve,like! i is travelling on da bus home.wot has u inmind 4 recreation dis eve?',\n",
       "       b'mum say we wan to go then go... then she can shun bian watch da glass exhibition...',\n",
       "       b'never y lei... i v lazy... got wat? dat day \\xc3\\xbc send me da url cant work one...',\n",
       "       b'in xam hall boy asked girl tell me the starting term for dis answer i can den manage on my own after lot of hesitation n lookin around silently she said the! intha ponnungale ipaditan;)',\n",
       "       b\"genius what's up. how your brother. pls send his number to my skype.\",\n",
       "       b'they finally came to fix the ceiling.',\n",
       "       b'urgent! call 09066350750 from your landline. your complimentary 4* ibiza holiday or 10,000 cash await collection sae t&cs po box 434 sk3 8wp 150 ppm 18+',\n",
       "       b'now that you have started dont stop. just pray for more good ideas and anything i see that can help you guys i.ll forward you a link.',\n",
       "       b'hello darlin ive finished college now so txt me when u finish if u can love kate xxx'],\n",
       "      dtype=object)>"
      ]
     },
     "execution_count": 82,
     "metadata": {},
     "output_type": "execute_result"
    }
   ],
   "source": [
    "#view the tensor dataset\n",
    "train_examples_batch, train_labels_batch = next(iter(training_dataset_tf.batch(10)))\n",
    "train_examples_batch"
   ]
  },
  {
   "cell_type": "code",
   "execution_count": 83,
   "id": "everyday-ontario",
   "metadata": {},
   "outputs": [
    {
     "data": {
      "text/plain": [
       "<tf.Tensor: shape=(10,), dtype=int8, numpy=array([0, 0, 0, 0, 0, 0, 0, 1, 0, 0], dtype=int8)>"
      ]
     },
     "execution_count": 83,
     "metadata": {},
     "output_type": "execute_result"
    }
   ],
   "source": [
    "train_labels_batch"
   ]
  },
  {
   "cell_type": "code",
   "execution_count": 86,
   "id": "exciting-occupation",
   "metadata": {},
   "outputs": [
    {
     "data": {
      "text/plain": [
       "<tf.Tensor: shape=(3, 128), dtype=float32, numpy=\n",
       "array([[ 0.15721717, -0.02363812,  0.07797033,  0.22276106,  0.19559482,\n",
       "        -0.19180974,  0.05093085, -0.13103227, -0.15158576,  0.14640023,\n",
       "        -0.16327888, -0.21670912, -0.02663764, -0.22346522,  0.11174662,\n",
       "         0.01874302,  0.11723131,  0.07021365, -0.03274394,  0.06300227,\n",
       "        -0.00887907, -0.12422097, -0.05396116, -0.03563889, -0.06176879,\n",
       "        -0.00069816,  0.14700063, -0.04761916, -0.05615348,  0.12025253,\n",
       "         0.03231254, -0.0719848 ,  0.09168004, -0.06877878,  0.04027882,\n",
       "         0.16307311, -0.17345332, -0.04899427,  0.21478973,  0.08009243,\n",
       "        -0.11140548, -0.11668202, -0.18458916, -0.3887992 , -0.0025783 ,\n",
       "         0.21314901, -0.00887572,  0.0061898 ,  0.17256713,  0.01464447,\n",
       "         0.09401417,  0.09160823, -0.08936025, -0.0034323 , -0.20323145,\n",
       "        -0.07914589, -0.12887983,  0.00483267, -0.02056812,  0.05430359,\n",
       "        -0.34453118,  0.04739786,  0.13110074, -0.06827086, -0.1006522 ,\n",
       "         0.09292074,  0.04477397, -0.17455375,  0.1294281 , -0.00534348,\n",
       "        -0.2546982 , -0.05689296,  0.0026355 , -0.13042024, -0.00121109,\n",
       "         0.1391345 ,  0.03512937, -0.21480542, -0.03290441,  0.05925686,\n",
       "         0.19105309,  0.04352981, -0.01700511,  0.03090229, -0.09774686,\n",
       "         0.10031802,  0.0760503 , -0.06758542,  0.43989506,  0.00952926,\n",
       "         0.03166275,  0.06540962,  0.086009  , -0.15164371,  0.0203122 ,\n",
       "         0.02584697, -0.05570948,  0.04514022, -0.14040251,  0.04269156,\n",
       "        -0.01333927,  0.11702272,  0.13488582,  0.00097131,  0.05905496,\n",
       "        -0.10799425, -0.02080172, -0.00173601, -0.2806555 ,  0.17515193,\n",
       "        -0.21061482,  0.07329991, -0.11631124, -0.21221408, -0.01238597,\n",
       "        -0.03137   , -0.05779134,  0.15140198, -0.05563119, -0.01691237,\n",
       "        -0.01604378, -0.13334976, -0.03491556,  0.14244276, -0.00737764,\n",
       "        -0.07667649, -0.0925523 ,  0.15252599],\n",
       "       [ 0.18819052,  0.070062  ,  0.06394152,  0.00560419,  0.25302252,\n",
       "         0.04108725, -0.001728  , -0.18235403, -0.20422654,  0.09578429,\n",
       "         0.20830832, -0.03612152,  0.10461815, -0.14495444,  0.03939664,\n",
       "         0.15090622, -0.15218322, -0.29793164, -0.09183236, -0.02632912,\n",
       "        -0.17115274, -0.11196739,  0.01981043, -0.18890846,  0.0221637 ,\n",
       "        -0.10856804, -0.0202536 ,  0.06950003, -0.30764997, -0.12215341,\n",
       "         0.20141743,  0.13232006, -0.09527156, -0.01437088,  0.03364374,\n",
       "         0.09383614, -0.0225883 , -0.02565679,  0.1343744 ,  0.27824536,\n",
       "        -0.33278057, -0.04790426, -0.22315843, -0.07230092,  0.10414141,\n",
       "        -0.12012902,  0.08741647,  0.09787238, -0.12911682,  0.1559536 ,\n",
       "         0.01162316, -0.00594084, -0.1103782 ,  0.1385305 , -0.14284168,\n",
       "        -0.00187854, -0.07405759, -0.24869558,  0.06840425, -0.1398569 ,\n",
       "        -0.22650082,  0.08433217,  0.22437425, -0.14707309, -0.03055038,\n",
       "        -0.08128034, -0.09831115, -0.1129233 , -0.03840902, -0.00667249,\n",
       "        -0.12461302,  0.11749384,  0.11942723, -0.10950276, -0.00416683,\n",
       "         0.04013418,  0.00779243, -0.04690926,  0.09195609,  0.14868875,\n",
       "         0.01837464, -0.00651246, -0.1463592 ,  0.04424305,  0.01986785,\n",
       "        -0.08015044, -0.03800787,  0.08651467,  0.15840279,  0.27821195,\n",
       "        -0.1701968 , -0.04093372,  0.01868877, -0.31836966,  0.31830326,\n",
       "         0.27846685,  0.04544899,  0.02944926,  0.1408454 , -0.05810173,\n",
       "         0.253501  ,  0.03267837,  0.16514738, -0.1396529 ,  0.02052611,\n",
       "         0.04543809, -0.03163531, -0.20028092, -0.14413504, -0.07751778,\n",
       "         0.01326514,  0.03479043,  0.00420025,  0.08194611, -0.2393164 ,\n",
       "        -0.09857401, -0.2762289 , -0.16387644, -0.12735209, -0.18888898,\n",
       "         0.10892325, -0.04273184,  0.20203131,  0.0866536 , -0.04527396,\n",
       "         0.15203893,  0.18786597, -0.21952733],\n",
       "       [ 0.3723033 ,  0.01243501,  0.03815027,  0.13722362,  0.10550027,\n",
       "        -0.18125895, -0.09999557, -0.21801025, -0.23851402,  0.00804147,\n",
       "        -0.08429893, -0.01746709,  0.13896292, -0.00549856,  0.09595472,\n",
       "        -0.10261744, -0.17196397,  0.04167607, -0.04201258, -0.04044969,\n",
       "        -0.07668932,  0.10958663, -0.0493548 , -0.20484228,  0.07761902,\n",
       "        -0.07357887,  0.05481871, -0.05145054, -0.20467645, -0.00136899,\n",
       "         0.00715834,  0.0450005 ,  0.08890162, -0.00917407,  0.13928713,\n",
       "        -0.00650313, -0.05559651, -0.0794894 ,  0.08018242,  0.293066  ,\n",
       "        -0.05397372,  0.10304921, -0.02821919, -0.23449825,  0.13711849,\n",
       "         0.2636814 ,  0.10345452, -0.06579692,  0.13828258,  0.15295443,\n",
       "         0.0653336 ,  0.15256026, -0.17372562, -0.02817246, -0.16459963,\n",
       "        -0.02854135, -0.19778205, -0.17520739,  0.02417723,  0.03929224,\n",
       "        -0.24247324,  0.11939956,  0.14813624, -0.01137635, -0.05282913,\n",
       "         0.07165891, -0.09932435, -0.28013912,  0.0634693 , -0.11970781,\n",
       "         0.0329654 , -0.06672993,  0.08035348,  0.03243959, -0.1252901 ,\n",
       "        -0.09378472,  0.13286407, -0.16567585, -0.14284417,  0.12689407,\n",
       "         0.18253481,  0.04541901, -0.03107138, -0.18341534,  0.02813181,\n",
       "         0.01976442, -0.25852054, -0.00154468,  0.3189498 , -0.04919561,\n",
       "        -0.06460894, -0.17585097, -0.04167071, -0.10401779,  0.15048483,\n",
       "         0.07438669, -0.06538191, -0.03844987, -0.1411835 , -0.06667236,\n",
       "         0.01530851, -0.03920855,  0.19918066,  0.07702364, -0.09172038,\n",
       "        -0.08065063,  0.11471923, -0.10108002, -0.16326725,  0.00641083,\n",
       "        -0.13961919, -0.11585131, -0.19412424, -0.13402733,  0.08961594,\n",
       "        -0.07451829, -0.05699844, -0.09884805, -0.05385608,  0.21417136,\n",
       "         0.05071559, -0.2193583 ,  0.08191404,  0.11237786,  0.02592271,\n",
       "        -0.14624356,  0.06240001, -0.03261415]], dtype=float32)>"
      ]
     },
     "execution_count": 86,
     "metadata": {},
     "output_type": "execute_result"
    }
   ],
   "source": [
    "#create the embedding layer using TFhub\n",
    "embedding = \"https://tfhub.dev/google/nnlm-en-dim128-with-normalization/2\"\n",
    "hub_layer = hub.KerasLayer(embedding, input_shape=[], \n",
    "                           dtype=tf.string, trainable=True)\n",
    "hub_layer(train_examples_batch[:1])"
   ]
  },
  {
   "cell_type": "code",
   "execution_count": 87,
   "id": "perceived-product",
   "metadata": {},
   "outputs": [
    {
     "name": "stdout",
     "output_type": "stream",
     "text": [
      "Model: \"sequential_1\"\n",
      "_________________________________________________________________\n",
      "Layer (type)                 Output Shape              Param #   \n",
      "=================================================================\n",
      "keras_layer_18 (KerasLayer)  (None, 128)               124642688 \n",
      "_________________________________________________________________\n",
      "dense (Dense)                (None, 16)                2064      \n",
      "_________________________________________________________________\n",
      "dense_1 (Dense)              (None, 1)                 17        \n",
      "=================================================================\n",
      "Total params: 124,644,769\n",
      "Trainable params: 124,644,769\n",
      "Non-trainable params: 0\n",
      "_________________________________________________________________\n"
     ]
    }
   ],
   "source": [
    "#design the model\n",
    "model = tf.keras.Sequential()\n",
    "model.add(hub_layer)\n",
    "model.add(tf.keras.layers.Dense(16, activation='relu'))\n",
    "model.add(tf.keras.layers.Dense(1))\n",
    "\n",
    "model.summary()"
   ]
  },
  {
   "cell_type": "code",
   "execution_count": 88,
   "id": "exact-vinyl",
   "metadata": {},
   "outputs": [],
   "source": [
    "#compile the model\n",
    "model.compile(optimizer='adam',\n",
    "              loss=tf.keras.losses.BinaryCrossentropy(from_logits=True),\n",
    "              metrics=['accuracy'])"
   ]
  },
  {
   "cell_type": "code",
   "execution_count": 94,
   "id": "descending-anniversary",
   "metadata": {},
   "outputs": [
    {
     "name": "stdout",
     "output_type": "stream",
     "text": [
      "Epoch 1/10\n",
      "33/33 [==============================] - 69s 2s/step - loss: 0.1478 - accuracy: 0.9466\n",
      "Epoch 2/10\n",
      "33/33 [==============================] - 73s 2s/step - loss: 0.0816 - accuracy: 0.9825\n",
      "Epoch 3/10\n",
      "33/33 [==============================] - 69s 2s/step - loss: 0.0506 - accuracy: 0.9907\n",
      "Epoch 4/10\n",
      "33/33 [==============================] - 69s 2s/step - loss: 0.0339 - accuracy: 0.9935\n",
      "Epoch 5/10\n",
      "33/33 [==============================] - 67s 2s/step - loss: 0.0232 - accuracy: 0.9945\n",
      "Epoch 6/10\n",
      "33/33 [==============================] - 68s 2s/step - loss: 0.0162 - accuracy: 0.9966\n",
      "Epoch 7/10\n",
      "33/33 [==============================] - 70s 2s/step - loss: 0.0117 - accuracy: 0.9983\n",
      "Epoch 8/10\n",
      "33/33 [==============================] - 67s 2s/step - loss: 0.0088 - accuracy: 0.9990\n",
      "Epoch 9/10\n",
      "33/33 [==============================] - 68s 2s/step - loss: 0.0068 - accuracy: 0.9993\n",
      "Epoch 10/10\n",
      "33/33 [==============================] - 71s 2s/step - loss: 0.0053 - accuracy: 0.9993\n"
     ]
    }
   ],
   "source": [
    "#fit the training set\n",
    "history = model.fit(training_dataset_tf.batch(128),\n",
    "                    epochs=10,\n",
    "                    \n",
    "                    verbose=1)"
   ]
  },
  {
   "cell_type": "code",
   "execution_count": 100,
   "id": "coastal-alexander",
   "metadata": {},
   "outputs": [],
   "source": [
    "#prepare the testing dataset by changing class values 0s & 1s and name the column 'spam'\n",
    "testing_dataset['spam'] = testing_dataset['class']\n",
    "testing_dataset['spam'] = pd.Categorical(testing_dataset['spam'])\n",
    "testing_dataset['spam'] = testing_dataset.spam.cat.codes\n",
    "testing_dataset = testing_dataset.drop(columns='class')\n",
    "target = testing_dataset.pop('spam')\n"
   ]
  },
  {
   "cell_type": "code",
   "execution_count": 101,
   "id": "aboriginal-night",
   "metadata": {},
   "outputs": [],
   "source": [
    "#create the test tensor flow dataset\n",
    "testing_list = testing_dataset.values.tolist()\n",
    "newlist = [item for items in testing_list for item in items]\n",
    "testing_dataset_tf = tf.data.Dataset.from_tensor_slices((newlist, target.values))"
   ]
  },
  {
   "cell_type": "code",
   "execution_count": 102,
   "id": "occupational-aquarium",
   "metadata": {},
   "outputs": [
    {
     "name": "stdout",
     "output_type": "stream",
     "text": [
      "3/3 - 0s - loss: 0.0493 - accuracy: 0.9849\n",
      "loss: 0.049\n",
      "accuracy: 0.985\n"
     ]
    }
   ],
   "source": [
    "#Let's evaluate and view the results\n",
    "results = model.evaluate(testing_dataset_tf.batch(512), verbose=2)\n",
    "\n",
    "for name, value in zip(model.metrics_names, results):\n",
    "  print(\"%s: %.3f\" % (name, value))"
   ]
  },
  {
   "cell_type": "code",
   "execution_count": 109,
   "id": "warming-stick",
   "metadata": {},
   "outputs": [
    {
     "name": "stdout",
     "output_type": "stream",
     "text": [
      "[-5.407327, 'ham']\n"
     ]
    }
   ],
   "source": [
    "# function to predict messages based on model\n",
    "# (should return list containing prediction and label, ex. [0.008318834938108921, 'ham'])\n",
    "def predict_message(pred_text):\n",
    "  \n",
    "    probability = model.predict([pred_text])\n",
    "    \n",
    "    ans = 'ham' if probability[0][0] < 0 else 'spam'\n",
    "    result = [probability[0][0], ans]\n",
    "    return result\n",
    "\n",
    "pred_text = \"how are you doing today?\"\n",
    "predict_message(pred_text)\n",
    "print(prediction)"
   ]
  },
  {
   "cell_type": "code",
   "execution_count": 107,
   "id": "honest-devices",
   "metadata": {},
   "outputs": [
    {
     "name": "stdout",
     "output_type": "stream",
     "text": [
      "You passed the challenge. Great job!\n"
     ]
    }
   ],
   "source": [
    "# Run this cell to test your function and model. Do not modify contents.\n",
    "def test_predictions():\n",
    "  test_messages = [\"how are you doing today\",\n",
    "                   \"sale today! to stop texts call 98912460324\",\n",
    "                   \"i dont want to go. can we try it a different day? available sat\",\n",
    "                   \"our new mobile video service is live. just install on your phone to start watching.\",\n",
    "                   \"you have won £1000 cash! call to claim your prize.\",\n",
    "                   \"i'll bring it tomorrow. don't forget the milk.\",\n",
    "                   \"wow, is your arm alright. that happened to me one time too\"\n",
    "                  ]\n",
    "\n",
    "  test_answers = [\"ham\", \"spam\", \"ham\", \"spam\", \"spam\", \"ham\", \"ham\"]\n",
    "  passed = True\n",
    "\n",
    "  for msg, ans in zip(test_messages, test_answers):\n",
    "    prediction = predict_message(msg)\n",
    "    if prediction[1] != ans:\n",
    "      passed = False\n",
    "\n",
    "  if passed:\n",
    "    print(\"You passed the challenge. Great job!\")\n",
    "  else:\n",
    "    print(\"You haven't passed yet. Keep trying.\")\n",
    "\n",
    "test_predictions()\n"
   ]
  }
 ],
 "metadata": {
  "kernelspec": {
   "display_name": "Python 3",
   "language": "python",
   "name": "python3"
  },
  "language_info": {
   "codemirror_mode": {
    "name": "ipython",
    "version": 3
   },
   "file_extension": ".py",
   "mimetype": "text/x-python",
   "name": "python",
   "nbconvert_exporter": "python",
   "pygments_lexer": "ipython3",
   "version": "3.8.7"
  }
 },
 "nbformat": 4,
 "nbformat_minor": 5
}
